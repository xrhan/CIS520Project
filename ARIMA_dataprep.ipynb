{
 "cells": [
  {
   "cell_type": "code",
   "execution_count": 14,
   "metadata": {},
   "outputs": [],
   "source": [
    "import csv\n",
    "import math\n",
    "import pandas as pd\n",
    "from datetime import datetime"
   ]
  },
  {
   "cell_type": "code",
   "execution_count": 15,
   "metadata": {},
   "outputs": [],
   "source": [
    "taxi16_df = pd.read_csv(\"../dataset_4_02_modified/13taxi_with_weather_std.csv\", sep = \",\")"
   ]
  },
  {
   "cell_type": "code",
   "execution_count": 16,
   "metadata": {},
   "outputs": [],
   "source": [
    "def lag_timestamp(timestamp, lag):\n",
    "    return (pd.to_datetime(timestamp) - pd.Timedelta(hours=lag)).strftime('%Y/%m/%d %H')"
   ]
  },
  {
   "cell_type": "code",
   "execution_count": 17,
   "metadata": {},
   "outputs": [],
   "source": [
    "taxi16_df[\"Lag1 Timestamp\"] = (pd.to_datetime(taxi16_df[\"Trip Start Timestamp\"])\\\n",
    "                               - pd.Timedelta(hours=1)).dt.strftime('%Y/%m/%d %H')\n",
    "taxi16_df[\"Lag2 Timestamp\"] = (pd.to_datetime(taxi16_df[\"Trip Start Timestamp\"])\\\n",
    "                               - pd.Timedelta(hours=2)).dt.strftime('%Y/%m/%d %H')\n",
    "taxi16_df[\"Lag3 Timestamp\"] = (pd.to_datetime(taxi16_df[\"Trip Start Timestamp\"])\\\n",
    "                               - pd.Timedelta(hours=3)).dt.strftime('%Y/%m/%d %H')"
   ]
  },
  {
   "cell_type": "code",
   "execution_count": 18,
   "metadata": {},
   "outputs": [],
   "source": [
    "taxi16_lean_df = taxi16_df[[\"Trip Start Timestamp\", \"Pickup Community Area\", \"Count\"]]"
   ]
  },
  {
   "cell_type": "code",
   "execution_count": 19,
   "metadata": {},
   "outputs": [],
   "source": [
    "# the data entries deleted because of lack of lag information are\n",
    "# timestamps 2016/01/01 00, 2016/01/01 01, 2016/01/01 02, \n",
    "# 2016/03/13 03, 2016/03/13 04, 2016/03/13 05 because of the\n",
    "# strange missing information entry at 2016/03/13 02\n",
    "lag1_added_df = taxi16_df.merge(right = taxi16_lean_df, left_on = [\"Lag1 Timestamp\", \"Pickup Community Area\"],\\\n",
    "               right_on = [\"Trip Start Timestamp\", \"Pickup Community Area\"], how = \"inner\")\\\n",
    "                .drop(columns = [\"Lag1 Timestamp\", \"Trip Start Timestamp_y\"])\\\n",
    "                .rename(columns = {\"Trip Start Timestamp_x\": \"Trip Start Timestamp\",\\\n",
    "                                   \"Count_x\": \"Count\", \"Count_y\": \"lag1\"})\n",
    "\n",
    "lag2_added_df = lag1_added_df.merge(right = taxi16_lean_df, left_on = [\"Lag2 Timestamp\", \"Pickup Community Area\"],\\\n",
    "               right_on = [\"Trip Start Timestamp\", \"Pickup Community Area\"], how = \"inner\")\\\n",
    "                .drop(columns = [\"Lag2 Timestamp\", \"Trip Start Timestamp_y\"])\\\n",
    "                .rename(columns = {\"Trip Start Timestamp_x\": \"Trip Start Timestamp\",\\\n",
    "                                   \"Count_x\": \"Count\", \"Count_y\": \"lag2\"})\n",
    "        \n",
    "lag3_added_df = lag2_added_df.merge(right = taxi16_lean_df, left_on = [\"Lag3 Timestamp\", \"Pickup Community Area\"],\\\n",
    "               right_on = [\"Trip Start Timestamp\", \"Pickup Community Area\"], how = \"inner\")\\\n",
    "                .drop(columns = [\"Lag3 Timestamp\", \"Trip Start Timestamp_y\"])\\\n",
    "                .rename(columns = {\"Trip Start Timestamp_x\": \"Trip Start Timestamp\",\\\n",
    "                                   \"Count_x\": \"Count\", \"Count_y\": \"lag3\"})"
   ]
  },
  {
   "cell_type": "code",
   "execution_count": 20,
   "metadata": {},
   "outputs": [],
   "source": [
    "lag3_added_df.to_csv(\"2013lag.csv\", index = False)"
   ]
  },
  {
   "cell_type": "code",
   "execution_count": 21,
   "metadata": {},
   "outputs": [
    {
     "data": {
      "text/plain": [
       "{'2013/01/01 00',\n",
       " '2013/01/01 01',\n",
       " '2013/01/01 02',\n",
       " '2013/03/10 03',\n",
       " '2013/03/10 04',\n",
       " '2013/03/10 05'}"
      ]
     },
     "execution_count": 21,
     "metadata": {},
     "output_type": "execute_result"
    }
   ],
   "source": [
    "set(taxi16_lean_df[\"Trip Start Timestamp\"].unique()) - set(lag3_added_df[\"Trip Start Timestamp\"].unique())"
   ]
  },
  {
   "cell_type": "code",
   "execution_count": 23,
   "metadata": {},
   "outputs": [
    {
     "data": {
      "text/plain": [
       "77"
      ]
     },
     "execution_count": 23,
     "metadata": {},
     "output_type": "execute_result"
    }
   ],
   "source": [
    "sum(taxi16_lean_df[\"Trip Start Timestamp\"] == '2013/03/10 03')"
   ]
  },
  {
   "cell_type": "code",
   "execution_count": null,
   "metadata": {},
   "outputs": [],
   "source": []
  }
 ],
 "metadata": {
  "kernelspec": {
   "display_name": "chicagotaxi",
   "language": "python",
   "name": "chicagotaxi"
  },
  "language_info": {
   "codemirror_mode": {
    "name": "ipython",
    "version": 3
   },
   "file_extension": ".py",
   "mimetype": "text/x-python",
   "name": "python",
   "nbconvert_exporter": "python",
   "pygments_lexer": "ipython3",
   "version": "3.6.0"
  }
 },
 "nbformat": 4,
 "nbformat_minor": 2
}
