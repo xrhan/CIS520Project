{
 "cells": [
  {
   "cell_type": "code",
   "execution_count": 1,
   "metadata": {},
   "outputs": [],
   "source": [
    "import csv\n",
    "import math\n",
    "import pandas as pd\n",
    "from datetime import datetime"
   ]
  },
  {
   "cell_type": "code",
   "execution_count": 2,
   "metadata": {},
   "outputs": [],
   "source": [
    "taxi_trip = pd.read_csv(\"14_Taxi_Trips.csv\", sep = \",\")\n",
    "\n",
    "temperature = pd.read_csv(\"temperature.csv\", sep = \",\")\n",
    "temperature.rename(columns={'Chicago':'temperature'}, inplace=True)\n",
    "wind_speed = pd.read_csv(\"wind_speed.csv\", sep = \",\")\n",
    "wind_speed.rename(columns={'Chicago':'wind_speed'}, inplace=True)"
   ]
  },
  {
   "cell_type": "code",
   "execution_count": 3,
   "metadata": {},
   "outputs": [],
   "source": [
    "temperature[\"datetime\"] = pd.to_datetime(temperature[\"datetime\"], \\\n",
    "                                                 format='%m/%d/%y %H:%M').dt.floor('H');\n",
    "temperature[\"datetime\"] = temperature[\"datetime\"].dt.strftime('%Y/%m/%d %H')\n",
    "wind_speed[\"datetime\"] = pd.to_datetime(wind_speed[\"datetime\"], \\\n",
    "                                                 format='%m/%d/%y %H:%M').dt.floor('H');\n",
    "wind_speed[\"datetime\"] = wind_speed[\"datetime\"].dt.strftime('%Y/%m/%d %H')"
   ]
  },
  {
   "cell_type": "code",
   "execution_count": 4,
   "metadata": {},
   "outputs": [],
   "source": [
    "# Join with taxi dataset by timestamp\n",
    "taxi_with_weather = pd.merge(taxi_trip, temperature, how='left', left_on='Trip Start Timestamp', \n",
    "                                    right_on='datetime')\n",
    "taxi_with_weather = pd.merge(taxi_with_weather, wind_speed, how='left', left_on='Trip Start Timestamp', \n",
    "                                    right_on='datetime')"
   ]
  },
  {
   "cell_type": "code",
   "execution_count": 8,
   "metadata": {},
   "outputs": [],
   "source": [
    "taxi_with_weather = taxi_with_weather.drop(columns=['datetime_x', 'datetime_y'])"
   ]
  },
  {
   "cell_type": "code",
   "execution_count": 6,
   "metadata": {},
   "outputs": [
    {
     "data": {
      "text/plain": [
       "False"
      ]
     },
     "execution_count": 6,
     "metadata": {},
     "output_type": "execute_result"
    }
   ],
   "source": [
    "# Check if contains NaN\n",
    "taxi_with_weather.isnull().values.any()"
   ]
  },
  {
   "cell_type": "code",
   "execution_count": 10,
   "metadata": {},
   "outputs": [],
   "source": [
    "taxi_with_weather.to_csv(\"14taxi_with_weather.csv\", index = False)"
   ]
  },
  {
   "cell_type": "code",
   "execution_count": null,
   "metadata": {},
   "outputs": [],
   "source": []
  }
 ],
 "metadata": {
  "kernelspec": {
   "display_name": "Python 2",
   "language": "python",
   "name": "python2"
  },
  "language_info": {
   "codemirror_mode": {
    "name": "ipython",
    "version": 2
   },
   "file_extension": ".py",
   "mimetype": "text/x-python",
   "name": "python",
   "nbconvert_exporter": "python",
   "pygments_lexer": "ipython2",
   "version": "2.7.15"
  }
 },
 "nbformat": 4,
 "nbformat_minor": 2
}
