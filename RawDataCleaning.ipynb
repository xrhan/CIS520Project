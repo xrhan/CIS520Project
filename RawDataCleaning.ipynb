{
 "cells": [
  {
   "cell_type": "code",
   "execution_count": 1,
   "metadata": {},
   "outputs": [],
   "source": [
    "import csv\n",
    "import math\n",
    "import pandas as pd\n",
    "from datetime import datetime"
   ]
  },
  {
   "cell_type": "code",
   "execution_count": 2,
   "metadata": {},
   "outputs": [
    {
     "data": {
      "text/plain": [
       "datetime.datetime(2019, 3, 27, 20, 44, 29, 141564)"
      ]
     },
     "execution_count": 2,
     "metadata": {},
     "output_type": "execute_result"
    }
   ],
   "source": [
    "# for keeping track of runtime\n",
    "# for reference, it ran 2min on the 7 month 31.5GB 2017 dataset\n",
    "datetime.now()"
   ]
  },
  {
   "cell_type": "markdown",
   "metadata": {},
   "source": [
    "# Import here"
   ]
  },
  {
   "cell_type": "code",
   "execution_count": 3,
   "metadata": {},
   "outputs": [],
   "source": [
    "day_df = pd.read_csv(\"14_Taxi_Trips.csv\", sep = \",\")"
   ]
  },
  {
   "cell_type": "code",
   "execution_count": 4,
   "metadata": {},
   "outputs": [],
   "source": [
    "# lean_df only keeps the 2 columns with information we use\n",
    "lean_df = day_df[[\"Trip Start Timestamp\", \"Pickup Community Area\"]]\n",
    "lean_df = lean_df.dropna(subset = [\"Pickup Community Area\"])\n",
    "lean_df[\"Pickup Community Area\"] = lean_df[\"Pickup Community Area\"].astype('int')"
   ]
  },
  {
   "cell_type": "code",
   "execution_count": 5,
   "metadata": {},
   "outputs": [],
   "source": [
    "# parse datetime and round to hourly level\n",
    "date_df = lean_df\n",
    "date_df[\"Trip Start Timestamp\"] = pd.to_datetime(lean_df[\"Trip Start Timestamp\"], \\\n",
    "                                                 format='%m/%d/%Y %I:%M:%S %p').dt.floor('H');\n",
    "date_df[\"dummy\"] = 0 # for groupby operations later"
   ]
  },
  {
   "cell_type": "code",
   "execution_count": 6,
   "metadata": {},
   "outputs": [],
   "source": [
    "# create a full cartesian product of all community areas and all hourly timestamp\n",
    "# alltimes_df used to fill in 0's as Count for community areas that did not\n",
    "# appear for certain hours\n",
    "alltimes_df = pd.DataFrame(date_df.drop_duplicates([\"Trip Start Timestamp\"])[\"Trip Start Timestamp\"])\n",
    "alltimes_df[\"Key\"] = 0\n",
    "allcomms_df = pd.DataFrame({\"Community Area\": [i for i in range(1,78)]})\n",
    "allcomms_df[\"Key\"] = 0\n",
    "fillin_df = alltimes_df.merge(right = allcomms_df, on = \"Key\").drop([\"Key\"], axis = 1)"
   ]
  },
  {
   "cell_type": "code",
   "execution_count": 7,
   "metadata": {},
   "outputs": [],
   "source": [
    "# count pickup number for each community each hour\n",
    "aggregate_df = date_df.groupby([\"Trip Start Timestamp\",\"Pickup Community Area\"])\\\n",
    "                [\"dummy\"].count().reset_index()\\\n",
    "                .rename(columns={\"dummy\":\"Count\"})"
   ]
  },
  {
   "cell_type": "code",
   "execution_count": 8,
   "metadata": {},
   "outputs": [],
   "source": [
    "# use fillin_df to fill in 0's for non-appearing community areas\n",
    "fullentry_df = fillin_df.merge(right = aggregate_df, \\\n",
    "                               left_on = [\"Trip Start Timestamp\", \"Community Area\"], \\\n",
    "                               right_on = [\"Trip Start Timestamp\", \"Pickup Community Area\"],\\\n",
    "                               how=\"left\").drop([\"Pickup Community Area\"], axis = 1)\n",
    "fullentry_df[\"Count\"] = fullentry_df[\"Count\"].fillna(0).astype('int')"
   ]
  },
  {
   "cell_type": "code",
   "execution_count": 9,
   "metadata": {},
   "outputs": [],
   "source": [
    "# add in (transformed) fields about time\n",
    "date_df = fullentry_df\n",
    "date_df[\"dayofyear\"] = date_df[\"Trip Start Timestamp\"].dt.dayofyear;\n",
    "date_df[\"dayofyear_sin\"] = date_df[\"dayofyear\"].map(lambda x: round(math.sin(x/365*2*math.pi),3));\n",
    "date_df[\"dayofyear_cos\"] = date_df[\"dayofyear\"].map(lambda x: round(math.cos(x/365*2*math.pi),3));\n",
    "\n",
    "date_df[\"hour\"] = date_df[\"Trip Start Timestamp\"].dt.hour;\n",
    "date_df[\"hour_sin\"] = date_df[\"hour\"].map(lambda x: round(math.sin(x/24*2*math.pi),2));\n",
    "date_df[\"hour_cos\"] = date_df[\"hour\"].map(lambda x: round(math.cos(x/24*2*math.pi),2));\n",
    "\n",
    "date_df[\"weekday\"] = date_df[\"Trip Start Timestamp\"].dt.dayofweek #Monday = 0, Sunday = 6"
   ]
  },
  {
   "cell_type": "code",
   "execution_count": 10,
   "metadata": {},
   "outputs": [],
   "source": [
    "# add in coordinates for each community area\n",
    "mapping_df = pd.read_csv(\"community_mapping.csv\")\n",
    "mapped_df = date_df.merge(right = mapping_df, left_on = \"Community Area\",\\\n",
    "                          right_on = \"Area Number\", how = \"left\")\\\n",
    "                         .drop([\"Area Number\"], axis = 1)"
   ]
  },
  {
   "cell_type": "code",
   "execution_count": 11,
   "metadata": {},
   "outputs": [],
   "source": [
    "# delete extra bits to save memory\n",
    "clean_df = mapped_df\n",
    "clean_df[\"Trip Start Timestamp\"] = mapped_df[\"Trip Start Timestamp\"].dt.strftime('%Y/%m/%d %H')\n",
    "clean_df = clean_df.rename(columns = {\"Community Area\": \"Pickup Community Area\"})"
   ]
  },
  {
   "cell_type": "markdown",
   "metadata": {},
   "source": [
    "# Export here"
   ]
  },
  {
   "cell_type": "code",
   "execution_count": 12,
   "metadata": {},
   "outputs": [],
   "source": [
    "clean_df.to_csv(\"14_Taxi_Trips.csv\", index = False)"
   ]
  },
  {
   "cell_type": "code",
   "execution_count": 13,
   "metadata": {},
   "outputs": [
    {
     "data": {
      "text/plain": [
       "datetime.datetime(2019, 3, 27, 20, 52, 57, 342975)"
      ]
     },
     "execution_count": 13,
     "metadata": {},
     "output_type": "execute_result"
    }
   ],
   "source": [
    "# for keeping track of runtime\n",
    "datetime.now()"
   ]
  }
 ],
 "metadata": {
  "kernelspec": {
   "display_name": "Python 2",
   "language": "python",
   "name": "python2"
  },
  "language_info": {
   "codemirror_mode": {
    "name": "ipython",
    "version": 2
   },
   "file_extension": ".py",
   "mimetype": "text/x-python",
   "name": "python",
   "nbconvert_exporter": "python",
   "pygments_lexer": "ipython2",
   "version": "2.7.15"
  }
 },
 "nbformat": 4,
 "nbformat_minor": 2
}
