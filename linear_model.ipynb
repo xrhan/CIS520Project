{
 "cells": [
  {
   "cell_type": "code",
   "execution_count": 1,
   "metadata": {},
   "outputs": [],
   "source": [
    "import csv\n",
    "import pandas as pd\n",
    "import numpy as np\n",
    "#from sklearn import\n",
    "from sklearn.linear_model import LinearRegression\n",
    "from sklearn.preprocessing import OneHotEncoder\n",
    "from sklearn.metrics import mean_squared_error\n",
    "import matplotlib.pyplot as plt\n",
    "%matplotlib inline"
   ]
  },
  {
   "cell_type": "markdown",
   "metadata": {},
   "source": [
    "## Years to Load"
   ]
  },
  {
   "cell_type": "code",
   "execution_count": 17,
   "metadata": {},
   "outputs": [],
   "source": [
    "years = [15, 16]"
   ]
  },
  {
   "cell_type": "code",
   "execution_count": 18,
   "metadata": {},
   "outputs": [],
   "source": [
    "taxi_df = {}\n",
    "for i in [15,16]:\n",
    "    taxi_df[i] = pd.read_csv(\"../dataset_4_02_modified/\" + str(i) \\\n",
    "                             + \"taxi_with_weather_std.csv\",\\\n",
    "                                    sep = \",\")\n",
    "# \"2016\" and before\n",
    "# taxi_df[15] = pd.concat([taxi_df[15], taxi_df[16]], axis = 0)\\\n",
    "#               .reset_index().drop(columns = ['index'])"
   ]
  },
  {
   "cell_type": "code",
   "execution_count": 19,
   "metadata": {},
   "outputs": [],
   "source": [
    "y_df = {}\n",
    "X_raw_df = {}\n",
    "for i in years:\n",
    "    y_df[i] =  pd.DataFrame(taxi_df[i]['Count'])\n",
    "    X_raw_df[i] = taxi_df[i].drop(columns = ['Pickup Community Area', \\\n",
    "                                             'Count', 'Trip Start Timestamp'])"
   ]
  },
  {
   "cell_type": "code",
   "execution_count": 20,
   "metadata": {},
   "outputs": [],
   "source": [
    "weekdays = ['0','1','2','3','4','5','6']\n",
    "enc = OneHotEncoder(categories=[weekdays])\n",
    "\n",
    "encoded_df = {}\n",
    "for i in years:\n",
    "    enc.fit(X_raw_df[i].weekday.values.reshape(-1, 1))\n",
    "    encoded_df[i] = pd.DataFrame(enc.transform(X_raw_df[i].weekday.values.reshape(-1, 1))\\\n",
    "                                 .toarray().astype(int))\\\n",
    "                                .rename(columns = {0: 'Monday', 1:'Tuesday', 2:'Wedneseday',\\\n",
    "                                3:'Thursday', 4:'Friday', 5:'Saturday',\\\n",
    "                                6:'Sunday'})"
   ]
  },
  {
   "cell_type": "code",
   "execution_count": 21,
   "metadata": {},
   "outputs": [],
   "source": [
    "X_encode_df = {}\n",
    "for i in years:\n",
    "    X_encode_df[i] = pd.concat([X_raw_df[i].drop(columns=['weekday']), encoded_df[i]], axis=1) "
   ]
  },
  {
   "cell_type": "code",
   "execution_count": 22,
   "metadata": {},
   "outputs": [],
   "source": [
    "X_mat = {}\n",
    "y_mat = {}\n",
    "for i in years:\n",
    "    X_mat[i] = X_encode_df[i].values\n",
    "    y_mat[i] = y_df[i].values"
   ]
  },
  {
   "cell_type": "code",
   "execution_count": 23,
   "metadata": {},
   "outputs": [],
   "source": [
    "reg = LinearRegression().fit(X_mat[15], y_mat[15])"
   ]
  },
  {
   "cell_type": "code",
   "execution_count": 24,
   "metadata": {},
   "outputs": [
    {
     "data": {
      "text/plain": [
       "0.037370560053785584"
      ]
     },
     "execution_count": 24,
     "metadata": {},
     "output_type": "execute_result"
    }
   ],
   "source": [
    "reg.score(X_mat[16], y_mat[16])"
   ]
  },
  {
   "cell_type": "markdown",
   "metadata": {},
   "source": [
    "# Add 2dg terms for lon and lat"
   ]
  },
  {
   "cell_type": "code",
   "execution_count": 25,
   "metadata": {},
   "outputs": [],
   "source": [
    "for i in years:\n",
    "    X_encode_df[i]['lat_sq'] = round(X_encode_df[i].lat.pow(2),4)\n",
    "    X_encode_df[i]['lon_sq'] = round(X_encode_df[i].lon.pow(2),4)\n",
    "    X_encode_df[i]['latXlon'] = round(X_encode_df[i].lat*X_encode_df[i].lon, 4)"
   ]
  },
  {
   "cell_type": "code",
   "execution_count": 26,
   "metadata": {},
   "outputs": [],
   "source": [
    "X_mat = {}\n",
    "y_mat = {}\n",
    "for i in years:\n",
    "    X_mat[i] = X_encode_df[i].values\n",
    "    y_mat[i] = y_df[i].values"
   ]
  },
  {
   "cell_type": "code",
   "execution_count": 27,
   "metadata": {},
   "outputs": [],
   "source": [
    "reg2 = LinearRegression().fit(X_mat[15], y_mat[15])"
   ]
  },
  {
   "cell_type": "markdown",
   "metadata": {},
   "source": [
    "## R^2"
   ]
  },
  {
   "cell_type": "code",
   "execution_count": 28,
   "metadata": {},
   "outputs": [
    {
     "data": {
      "text/plain": [
       "0.09900850869034639"
      ]
     },
     "execution_count": 28,
     "metadata": {},
     "output_type": "execute_result"
    }
   ],
   "source": [
    "reg2.score(X_mat[16], y_mat[16])"
   ]
  },
  {
   "cell_type": "markdown",
   "metadata": {},
   "source": [
    "## Mean Square Error"
   ]
  },
  {
   "cell_type": "code",
   "execution_count": 29,
   "metadata": {},
   "outputs": [
    {
     "data": {
      "text/plain": [
       "12654.082651377037"
      ]
     },
     "execution_count": 29,
     "metadata": {},
     "output_type": "execute_result"
    }
   ],
   "source": [
    "reg2_pred16 = reg2.predict(X_mat[16])\n",
    "mean_squared_error(y_true = y_mat[16], y_pred = reg2_pred16)"
   ]
  },
  {
   "cell_type": "markdown",
   "metadata": {},
   "source": [
    "## Analyze error distribution"
   ]
  },
  {
   "cell_type": "code",
   "execution_count": 16,
   "metadata": {},
   "outputs": [
    {
     "data": {
      "text/plain": [
       "(array([3.52381e+05, 3.30110e+04, 2.14900e+03, 2.03000e+03, 1.41000e+03,\n",
       "        5.56000e+02, 2.00000e+02, 3.30000e+01, 4.00000e+00, 2.00000e+00]),\n",
       " array([-147.33164099,   35.07227281,  217.4761866 ,  399.88010039,\n",
       "         582.28401419,  764.68792798,  947.09184177, 1129.49575557,\n",
       "        1311.89966936, 1494.30358316, 1676.70749695]),\n",
       " <a list of 10 Patch objects>)"
      ]
     },
     "execution_count": 16,
     "metadata": {},
     "output_type": "execute_result"
    },
    {
     "data": {
      "image/png": "[encoded data removed]",
      "text/plain": [
       "<Figure size 432x288 with 1 Axes>"
      ]
     },
     "metadata": {
      "needs_background": "light"
     },
     "output_type": "display_data"
    }
   ],
   "source": [
    "plt.hist(x = (y_mat[17] - reg2_pred17).reshape(1,-1)[0])"
   ]
  },
  {
   "cell_type": "markdown",
   "metadata": {},
   "source": [
    "## Results\n",
    "### Original terms: \n",
    "#### Train 2016, Test 2017: Test R^2 0.02\n",
    "### Lon Lat Sq terms: \n",
    "#### Train 2016, Test 2017: Test R^2 0.08, Test MSE 7284"
   ]
  },
  {
   "cell_type": "code",
   "execution_count": null,
   "metadata": {},
   "outputs": [],
   "source": []
  }
 ],
 "metadata": {
  "kernelspec": {
   "display_name": "chicagotaxi",
   "language": "python",
   "name": "chicagotaxi"
  },
  "language_info": {
   "codemirror_mode": {
    "name": "ipython",
    "version": 3
   },
   "file_extension": ".py",
   "mimetype": "text/x-python",
   "name": "python",
   "nbconvert_exporter": "python",
   "pygments_lexer": "ipython3",
   "version": "3.6.0"
  }
 },
 "nbformat": 4,
 "nbformat_minor": 2
}
