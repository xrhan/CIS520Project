{
 "cells": [
  {
   "cell_type": "code",
   "execution_count": 11,
   "metadata": {},
   "outputs": [],
   "source": [
    "import csv\n",
    "import pandas as pd\n",
    "import numpy as np\n",
    "#from sklearn import\n",
    "from sklearn.linear_model import LinearRegression\n",
    "from sklearn.preprocessing import OneHotEncoder\n",
    "from sklearn.metrics import mean_squared_error\n",
    "import matplotlib.pyplot as plt\n",
    "import statsmodels.api as sm\n",
    "from scipy import stats\n",
    "%matplotlib inline"
   ]
  },
  {
   "cell_type": "markdown",
   "metadata": {},
   "source": [
    "## Years to Load"
   ]
  },
  {
   "cell_type": "code",
   "execution_count": 2,
   "metadata": {},
   "outputs": [],
   "source": [
    "years = [15, 16]"
   ]
  },
  {
   "cell_type": "code",
   "execution_count": 3,
   "metadata": {},
   "outputs": [],
   "source": [
    "taxi_df = {}\n",
    "for i in [15,16]:\n",
    "    taxi_df[i] = pd.read_csv(\"../dataset_4_02_modified/\" + str(i) \\\n",
    "                             + \"taxi_with_weather_std.csv\",\\\n",
    "                                    sep = \",\")\n",
    "# \"2016\" and before\n",
    "# taxi_df[15] = pd.concat([taxi_df[15], taxi_df[16]], axis = 0)\\\n",
    "#               .reset_index().drop(columns = ['index'])"
   ]
  },
  {
   "cell_type": "code",
   "execution_count": 4,
   "metadata": {},
   "outputs": [],
   "source": [
    "y_df = {}\n",
    "X_raw_df = {}\n",
    "for i in years:\n",
    "    y_df[i] =  pd.DataFrame(taxi_df[i]['Count'])\n",
    "    X_raw_df[i] = taxi_df[i].drop(columns = ['Pickup Community Area', \\\n",
    "                                             'Count', 'Trip Start Timestamp'])"
   ]
  },
  {
   "cell_type": "code",
   "execution_count": 5,
   "metadata": {},
   "outputs": [],
   "source": [
    "weekdays = ['0','1','2','3','4','5','6']\n",
    "enc = OneHotEncoder(categories=[weekdays])\n",
    "\n",
    "encoded_df = {}\n",
    "for i in years:\n",
    "    enc.fit(X_raw_df[i].weekday.values.reshape(-1, 1))\n",
    "    encoded_df[i] = pd.DataFrame(enc.transform(X_raw_df[i].weekday.values.reshape(-1, 1))\\\n",
    "                                 .toarray().astype(int))\\\n",
    "                                .rename(columns = {0: 'Monday', 1:'Tuesday', 2:'Wedneseday',\\\n",
    "                                3:'Thursday', 4:'Friday', 5:'Saturday',\\\n",
    "                                6:'Sunday'})"
   ]
  },
  {
   "cell_type": "code",
   "execution_count": 6,
   "metadata": {},
   "outputs": [],
   "source": [
    "X_encode_df = {}\n",
    "for i in years:\n",
    "    X_encode_df[i] = pd.concat([X_raw_df[i].drop(columns=['weekday']), encoded_df[i]], axis=1) "
   ]
  },
  {
   "cell_type": "code",
   "execution_count": 7,
   "metadata": {},
   "outputs": [],
   "source": [
    "X_mat = {}\n",
    "y_mat = {}\n",
    "for i in years:\n",
    "    X_mat[i] = X_encode_df[i].values\n",
    "    y_mat[i] = y_df[i].values"
   ]
  },
  {
   "cell_type": "code",
   "execution_count": 8,
   "metadata": {},
   "outputs": [],
   "source": [
    "reg = LinearRegression().fit(X_mat[15], y_mat[15])"
   ]
  },
  {
   "cell_type": "markdown",
   "metadata": {},
   "source": [
    "## R^2"
   ]
  },
  {
   "cell_type": "code",
   "execution_count": 9,
   "metadata": {},
   "outputs": [
    {
     "data": {
      "text/plain": [
       "0.037370560053785584"
      ]
     },
     "execution_count": 9,
     "metadata": {},
     "output_type": "execute_result"
    }
   ],
   "source": [
    "reg.score(X_mat[16], y_mat[16])"
   ]
  },
  {
   "cell_type": "code",
   "execution_count": 12,
   "metadata": {},
   "outputs": [
    {
     "name": "stdout",
     "output_type": "stream",
     "text": [
      "                            OLS Regression Results                            \n",
      "==============================================================================\n",
      "Dep. Variable:                      y   R-squared:                       0.056\n",
      "Model:                            OLS   Adj. R-squared:                  0.056\n",
      "Method:                 Least Squares   F-statistic:                     2365.\n",
      "Date:                Sun, 14 Apr 2019   Prob (F-statistic):               0.00\n",
      "Time:                        17:40:14   Log-Likelihood:            -4.3103e+06\n",
      "No. Observations:              672672   AIC:                         8.621e+06\n",
      "Df Residuals:                  672654   BIC:                         8.621e+06\n",
      "Df Model:                          17                                         \n",
      "Covariance Type:            nonrobust                                         \n",
      "==============================================================================\n",
      "                 coef    std err          t      P>|t|      [0.025      0.975]\n",
      "------------------------------------------------------------------------------\n",
      "const          5.3640      0.225     23.857      0.000       4.923       5.805\n",
      "x1            -1.7388      0.529     -3.287      0.001      -2.776      -0.702\n",
      "x2             0.9869      0.444      2.220      0.026       0.116       1.858\n",
      "x3            -3.4083      0.497     -6.860      0.000      -4.382      -2.434\n",
      "x4             4.5734      0.478      9.573      0.000       3.637       5.510\n",
      "x5           -14.2816      0.409    -34.928      0.000     -15.083     -13.480\n",
      "x6            -3.8226      0.267    -14.297      0.000      -4.347      -3.299\n",
      "x7            42.5756      0.231    183.993      0.000      42.122      43.029\n",
      "x8           -44.3723      0.329   -134.912      0.000     -45.017     -43.728\n",
      "x9            -1.8524      0.418     -4.433      0.000      -2.671      -1.033\n",
      "x10            0.0492      0.197      0.250      0.803      -0.337       0.435\n",
      "x11           -0.3738      0.226     -1.654      0.098      -0.817       0.069\n",
      "x12           -3.1281      0.440     -7.106      0.000      -3.991      -2.265\n",
      "x13           -1.1779      0.440     -2.678      0.007      -2.040      -0.316\n",
      "x14            0.1268      0.440      0.288      0.773      -0.735       0.988\n",
      "x15            2.2220      0.443      5.015      0.000       1.354       3.090\n",
      "x16            5.8573      0.440     13.301      0.000       4.994       6.720\n",
      "x17            4.0449      0.440      9.192      0.000       3.182       4.907\n",
      "x18           -2.5809      0.440     -5.867      0.000      -3.443      -1.719\n",
      "==============================================================================\n",
      "Omnibus:                   829756.160   Durbin-Watson:                   1.856\n",
      "Prob(Omnibus):                  0.000   Jarque-Bera (JB):         98851659.067\n",
      "Skew:                           6.899   Prob(JB):                         0.00\n",
      "Kurtosis:                      60.763   Cond. No.                     1.06e+16\n",
      "==============================================================================\n",
      "\n",
      "Warnings:\n",
      "[1] Standard Errors assume that the covariance matrix of the errors is correctly specified.\n",
      "[2] The smallest eigenvalue is 1.3e-26. This might indicate that there are\n",
      "strong multicollinearity problems or that the design matrix is singular.\n"
     ]
    }
   ],
   "source": [
    "X2 = sm.add_constant(X_mat[15])\n",
    "est = sm.OLS(y_mat[15], X2)\n",
    "est2 = est.fit()\n",
    "print(est2.summary())"
   ]
  },
  {
   "cell_type": "code",
   "execution_count": 13,
   "metadata": {},
   "outputs": [
    {
     "name": "stdout",
     "output_type": "stream",
     "text": [
      "1 dayofyear -1.74\n",
      "2 dayofyear_sin 0.99\n",
      "3 dayofyear_cos -3.41\n",
      "4 hour 4.57\n",
      "5 hour_sin -14.28\n",
      "6 hour_cos -3.82\n",
      "7 lat 42.58\n",
      "8 lon -44.37\n",
      "9 temperature -1.85\n",
      "10 wind_speed 0.05\n",
      "11 humidity -0.37\n",
      "12 Monday -3.89\n",
      "13 Tuesday -1.94\n",
      "14 Wedneseday -0.64\n",
      "15 Thursday 1.46\n",
      "16 Friday 5.09\n",
      "17 Saturday 3.28\n",
      "18 Sunday -3.35\n"
     ]
    }
   ],
   "source": [
    "for i in range(0, len(reg.coef_[0])):\n",
    "    print(\"{2} {0} {1}\".format(X_encode_df[16].columns.values[i], round(reg.coef_[0][i], 2),i+1))"
   ]
  },
  {
   "cell_type": "markdown",
   "metadata": {},
   "source": [
    "## Mean Squared Error"
   ]
  },
  {
   "cell_type": "code",
   "execution_count": 14,
   "metadata": {},
   "outputs": [
    {
     "data": {
      "text/plain": [
       "13519.764185588454"
      ]
     },
     "execution_count": 14,
     "metadata": {},
     "output_type": "execute_result"
    }
   ],
   "source": [
    "reg_pred = reg.predict(X_mat[16])\n",
    "mean_squared_error(y_true = y_mat[16], y_pred = reg_pred)"
   ]
  },
  {
   "cell_type": "markdown",
   "metadata": {},
   "source": [
    "# Add 2dg terms for lon and lat"
   ]
  },
  {
   "cell_type": "code",
   "execution_count": 15,
   "metadata": {},
   "outputs": [],
   "source": [
    "for i in years:\n",
    "    X_encode_df[i]['lat_sq'] = round(X_encode_df[i].lat.pow(2),4)\n",
    "    X_encode_df[i]['lon_sq'] = round(X_encode_df[i].lon.pow(2),4)\n",
    "    X_encode_df[i]['latXlon'] = round(X_encode_df[i].lat*X_encode_df[i].lon, 4)"
   ]
  },
  {
   "cell_type": "code",
   "execution_count": 16,
   "metadata": {},
   "outputs": [],
   "source": [
    "X_mat = {}\n",
    "y_mat = {}\n",
    "for i in years:\n",
    "    X_mat[i] = X_encode_df[i].values\n",
    "    y_mat[i] = y_df[i].values"
   ]
  },
  {
   "cell_type": "code",
   "execution_count": 17,
   "metadata": {},
   "outputs": [],
   "source": [
    "reg2 = LinearRegression().fit(X_mat[15], y_mat[15])"
   ]
  },
  {
   "cell_type": "markdown",
   "metadata": {},
   "source": [
    "## R^2"
   ]
  },
  {
   "cell_type": "code",
   "execution_count": 18,
   "metadata": {},
   "outputs": [
    {
     "data": {
      "text/plain": [
       "0.09900850869034639"
      ]
     },
     "execution_count": 18,
     "metadata": {},
     "output_type": "execute_result"
    }
   ],
   "source": [
    "reg2.score(X_mat[16], y_mat[16])"
   ]
  },
  {
   "cell_type": "code",
   "execution_count": 19,
   "metadata": {},
   "outputs": [
    {
     "name": "stdout",
     "output_type": "stream",
     "text": [
      "                            OLS Regression Results                            \n",
      "==============================================================================\n",
      "Dep. Variable:                      y   R-squared:                       0.129\n",
      "Model:                            OLS   Adj. R-squared:                  0.129\n",
      "Method:                 Least Squares   F-statistic:                     4979.\n",
      "Date:                Sun, 14 Apr 2019   Prob (F-statistic):               0.00\n",
      "Time:                        17:49:14   Log-Likelihood:            -4.2834e+06\n",
      "No. Observations:              672672   AIC:                         8.567e+06\n",
      "Df Residuals:                  672651   BIC:                         8.567e+06\n",
      "Df Model:                          20                                         \n",
      "Covariance Type:            nonrobust                                         \n",
      "==============================================================================\n",
      "                 coef    std err          t      P>|t|      [0.025      0.975]\n",
      "------------------------------------------------------------------------------\n",
      "const          6.7358      0.270     24.952      0.000       6.207       7.265\n",
      "x1            -1.7388      0.508     -3.421      0.001      -2.735      -0.742\n",
      "x2             0.9869      0.427      2.311      0.021       0.150       1.824\n",
      "x3            -3.4083      0.477     -7.139      0.000      -4.344      -2.473\n",
      "x4             4.5734      0.459      9.964      0.000       3.674       5.473\n",
      "x5           -14.2816      0.393    -36.354      0.000     -15.052     -13.512\n",
      "x6            -3.8226      0.257    -14.881      0.000      -4.326      -3.319\n",
      "x7            13.2177      0.375     35.209      0.000      12.482      13.953\n",
      "x8            31.8268      0.483     65.834      0.000      30.879      32.774\n",
      "x9            -1.8524      0.401     -4.614      0.000      -2.639      -1.065\n",
      "x10            0.0492      0.189      0.260      0.795      -0.322       0.420\n",
      "x11           -0.3738      0.217     -1.721      0.085      -0.799       0.052\n",
      "x12           -2.9322      0.424     -6.923      0.000      -3.762      -2.102\n",
      "x13           -0.9820      0.423     -2.320      0.020      -1.811      -0.153\n",
      "x14            0.3227      0.423      0.763      0.446      -0.506       1.152\n",
      "x15            2.4180      0.426      5.671      0.000       1.582       3.254\n",
      "x16            6.0533      0.424     14.286      0.000       5.223       6.884\n",
      "x17            4.2409      0.423     10.016      0.000       3.411       5.071\n",
      "x18           -2.3849      0.423     -5.634      0.000      -3.215      -1.555\n",
      "x19            6.8402      0.250     27.392      0.000       6.351       7.330\n",
      "x20          109.6905      0.498    220.245      0.000     108.714     110.667\n",
      "x21         -119.5901      0.588   -203.372      0.000    -120.743    -118.438\n",
      "==============================================================================\n",
      "Omnibus:                   813347.315   Durbin-Watson:                   1.777\n",
      "Prob(Omnibus):                  0.000   Jarque-Bera (JB):         94836632.436\n",
      "Skew:                           6.651   Prob(JB):                         0.00\n",
      "Kurtosis:                      59.627   Cond. No.                     1.56e+16\n",
      "==============================================================================\n",
      "\n",
      "Warnings:\n",
      "[1] Standard Errors assume that the covariance matrix of the errors is correctly specified.\n",
      "[2] The smallest eigenvalue is 1.26e-26. This might indicate that there are\n",
      "strong multicollinearity problems or that the design matrix is singular.\n"
     ]
    }
   ],
   "source": [
    "X2 = sm.add_constant(X_mat[15])\n",
    "est = sm.OLS(y_mat[15], X2)\n",
    "est2 = est.fit()\n",
    "print(est2.summary())"
   ]
  },
  {
   "cell_type": "code",
   "execution_count": 20,
   "metadata": {},
   "outputs": [
    {
     "name": "stdout",
     "output_type": "stream",
     "text": [
      "1 dayofyear -1.74\n",
      "2 dayofyear_sin 0.99\n",
      "3 dayofyear_cos -3.41\n",
      "4 hour 4.57\n",
      "5 hour_sin -14.28\n",
      "6 hour_cos -3.82\n",
      "7 lat 13.22\n",
      "8 lon 31.83\n",
      "9 temperature -1.85\n",
      "10 wind_speed 0.05\n",
      "11 humidity -0.37\n",
      "12 Monday -3.89\n",
      "13 Tuesday -1.94\n",
      "14 Wedneseday -0.64\n",
      "15 Thursday 1.46\n",
      "16 Friday 5.09\n",
      "17 Saturday 3.28\n",
      "18 Sunday -3.35\n",
      "19 lat_sq 6.84\n",
      "20 lon_sq 109.69\n",
      "21 latXlon -119.59\n"
     ]
    }
   ],
   "source": [
    "for i in range(0, len(reg2.coef_[0])):\n",
    "    print(\"{2} {0} {1}\".format(X_encode_df[16].columns.values[i], round(reg2.coef_[0][i], 2),i+1))"
   ]
  },
  {
   "cell_type": "markdown",
   "metadata": {},
   "source": [
    "## Mean Square Error"
   ]
  },
  {
   "cell_type": "code",
   "execution_count": 21,
   "metadata": {},
   "outputs": [
    {
     "data": {
      "text/plain": [
       "12654.082651377037"
      ]
     },
     "execution_count": 21,
     "metadata": {},
     "output_type": "execute_result"
    }
   ],
   "source": [
    "reg2_pred = reg2.predict(X_mat[16])\n",
    "mean_squared_error(y_true = y_mat[16], y_pred = reg2_pred)"
   ]
  },
  {
   "cell_type": "markdown",
   "metadata": {},
   "source": [
    "## Analyze error distribution"
   ]
  },
  {
   "cell_type": "code",
   "execution_count": 16,
   "metadata": {},
   "outputs": [
    {
     "data": {
      "text/plain": [
       "(array([3.52381e+05, 3.30110e+04, 2.14900e+03, 2.03000e+03, 1.41000e+03,\n",
       "        5.56000e+02, 2.00000e+02, 3.30000e+01, 4.00000e+00, 2.00000e+00]),\n",
       " array([-147.33164099,   35.07227281,  217.4761866 ,  399.88010039,\n",
       "         582.28401419,  764.68792798,  947.09184177, 1129.49575557,\n",
       "        1311.89966936, 1494.30358316, 1676.70749695]),\n",
       " <a list of 10 Patch objects>)"
      ]
     },
     "execution_count": 16,
     "metadata": {},
     "output_type": "execute_result"
    },
    {
     "data": {
      "image/png": "[encoded data removed]",
      "text/plain": [
       "<Figure size 432x288 with 1 Axes>"
      ]
     },
     "metadata": {
      "needs_background": "light"
     },
     "output_type": "display_data"
    }
   ],
   "source": [
    "plt.hist(x = (y_mat[17] - reg2_pred17).reshape(1,-1)[0])"
   ]
  },
  {
   "cell_type": "markdown",
   "metadata": {},
   "source": [
    "## Results\n",
    "### Original terms: \n",
    "#### Train 2015, Test 2016: Test R^2 0.04, Test MSE 13520\n",
    "### Lon Lat Sq terms: \n",
    "#### Train 2015, Test 2016: Test R^2 0.1, Test MSE 12654"
   ]
  },
  {
   "cell_type": "code",
   "execution_count": null,
   "metadata": {},
   "outputs": [],
   "source": []
  }
 ],
 "metadata": {
  "kernelspec": {
   "display_name": "chicagotaxi",
   "language": "python",
   "name": "chicagotaxi"
  },
  "language_info": {
   "codemirror_mode": {
    "name": "ipython",
    "version": 3
   },
   "file_extension": ".py",
   "mimetype": "text/x-python",
   "name": "python",
   "nbconvert_exporter": "python",
   "pygments_lexer": "ipython3",
   "version": "3.6.0"
  }
 },
 "nbformat": 4,
 "nbformat_minor": 2
}
