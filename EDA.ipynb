{
 "cells": [
  {
   "cell_type": "code",
   "execution_count": 2,
   "metadata": {},
   "outputs": [],
   "source": [
    "import csv\n",
    "import pandas as pd\n",
    "from datetime import datetime"
   ]
  },
  {
   "cell_type": "code",
   "execution_count": 3,
   "metadata": {},
   "outputs": [],
   "source": [
    "#col_names = [\"Trip ID\", \"Taxi ID\", \"Trip Start Timestamp\", \"Trip End Timestamp\", \"Trip Seconds\", \"Trip Miles\", \"Pickup Census Tract\", \"Dropoff Census Tract\", \"Pickup Community Area\", \"Dropoff Community Area\", \"Fare\", \"Tips\", \"Tolls\", \"Extras\", \"Trip Total\", \"Payment Type\", \"Company\", \"Pickup Centroid Latitude\", \"Pickup Centroid Longitude\", \"Pickup Centroid Location\", \"Dropoff Centroid Latitude\", \"Dropoff Centroid Longitude\", \"Dropoff Centroid  Location\"]\n",
    "day_df = pd.read_csv(\"one_day_w_header.csv\", sep = \",\")"
   ]
  },
  {
   "cell_type": "code",
   "execution_count": 9,
   "metadata": {},
   "outputs": [],
   "source": [
    "#lean_df = day_df.drop(columns = [\"Trip ID\", \"Taxi ID\", \"Pickup Census Tract\", \"Dropoff Census Tract\", \"Payment Type\", \"Company\", \\\n",
    "#                      \"Pickup Centroid Location\",\"Dropoff Centroid  Location\"])\n",
    "lean_df = day_df[[\"Trip Start Timestamp\", \"Pickup Community Area\"]]"
   ]
  },
  {
   "cell_type": "code",
   "execution_count": 215,
   "metadata": {},
   "outputs": [],
   "source": [
    "date_df = lean_df\n",
    "# alternative faster but more memoary consuming computation, .dt.floor('H') 17 KB vs 21 KB\n",
    "date_df[\"Trip Start Timestamp\"] = pd.to_datetime(lean_df[\"Trip Start Timestamp\"], format='%m/%d/%Y %I:%M:%S %p').dt.strftime('%m/%d/%Y %H');\n",
    "date_df[\"Trip End Timestamp\"] = pd.to_datetime(lean_df[\"Trip End Timestamp\"], format='%m/%d/%Y %I:%M:%S %p').dt.strftime('%m/%d/%Y %H');"
   ]
  },
  {
   "cell_type": "code",
   "execution_count": 216,
   "metadata": {},
   "outputs": [],
   "source": [
    "aggregate_df = date_df.groupby([\"Trip Start Timestamp\",\"Pickup Community Area\"])[\"Trip End Timestamp\"].count().reset_index().rename(columns={\"Trip End Timestamp\":\"Count\"})\n",
    "aggregate_df[\"Pickup Community Area\"] = aggregate_df[\"Pickup Community Area\"].astype('int');"
   ]
  },
  {
   "cell_type": "code",
   "execution_count": 217,
   "metadata": {},
   "outputs": [],
   "source": [
    "aggregate_df.to_csv(\"2017_ss.csv\", index = False)"
   ]
  },
  {
   "cell_type": "code",
   "execution_count": null,
   "metadata": {},
   "outputs": [],
   "source": []
  }
 ],
 "metadata": {
  "kernelspec": {
   "display_name": "chicagotaxi",
   "language": "python",
   "name": "chicagotaxi"
  },
  "language_info": {
   "codemirror_mode": {
    "name": "ipython",
    "version": 3
   },
   "file_extension": ".py",
   "mimetype": "text/x-python",
   "name": "python",
   "nbconvert_exporter": "python",
   "pygments_lexer": "ipython3",
   "version": "3.6.0"
  }
 },
 "nbformat": 4,
 "nbformat_minor": 2
}
