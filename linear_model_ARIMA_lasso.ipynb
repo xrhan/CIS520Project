{
 "cells": [
  {
   "cell_type": "code",
   "execution_count": 18,
   "metadata": {},
   "outputs": [],
   "source": [
    "import csv\n",
    "import pandas as pd\n",
    "import numpy as np\n",
    "#from sklearn import\n",
    "from sklearn.linear_model import LinearRegression\n",
    "from sklearn.preprocessing import OneHotEncoder\n",
    "from sklearn.metrics import mean_squared_error\n",
    "from sklearn import linear_model\n",
    "import matplotlib.pyplot as plt\n",
    "import statsmodels.api as sm\n",
    "from scipy import stats\n",
    "%matplotlib inline"
   ]
  },
  {
   "cell_type": "markdown",
   "metadata": {},
   "source": [
    "## Years to Load"
   ]
  },
  {
   "cell_type": "code",
   "execution_count": 36,
   "metadata": {},
   "outputs": [],
   "source": [
    "years = [13,14,15, 16]"
   ]
  },
  {
   "cell_type": "code",
   "execution_count": 37,
   "metadata": {},
   "outputs": [],
   "source": [
    "taxi_df = {}\n",
    "\n",
    "for i in years:\n",
    "    taxi_df[i] = pd.read_csv(\"../dataset_4_02_modified/20\" + str(i) \\\n",
    "                            + \"lag.csv\", sep = \",\")\n",
    "# \"2016\" and before\n",
    "# taxi_df[15] = pd.concat([taxi_df[15], taxi_df[16]], axis = 0)\\\n",
    "#               .reset_index().drop(columns = ['index'])"
   ]
  },
  {
   "cell_type": "code",
   "execution_count": 38,
   "metadata": {},
   "outputs": [],
   "source": [
    "y_df = {}\n",
    "X_raw_df = {}\n",
    "for i in years:\n",
    "    y_df[i] =  pd.DataFrame(taxi_df[i]['Count'])\n",
    "    X_raw_df[i] = taxi_df[i].drop(columns = ['Pickup Community Area', \\\n",
    "                                             'Count', 'Trip Start Timestamp'])"
   ]
  },
  {
   "cell_type": "code",
   "execution_count": 39,
   "metadata": {},
   "outputs": [],
   "source": [
    "weekdays = ['0','1','2','3','4','5','6']\n",
    "enc = OneHotEncoder(categories=[weekdays])\n",
    "\n",
    "encoded_df = {}\n",
    "for i in years:\n",
    "    enc.fit(X_raw_df[i].weekday.values.reshape(-1, 1))\n",
    "    encoded_df[i] = pd.DataFrame(enc.transform(X_raw_df[i].weekday.values.reshape(-1, 1))\\\n",
    "                                 .toarray().astype(int))\\\n",
    "                                .rename(columns = {0: 'Monday', 1:'Tuesday', 2:'Wedneseday',\\\n",
    "                                3:'Thursday', 4:'Friday', 5:'Saturday',\\\n",
    "                                6:'Sunday'})"
   ]
  },
  {
   "cell_type": "code",
   "execution_count": 40,
   "metadata": {},
   "outputs": [],
   "source": [
    "X_encode_df = {}\n",
    "for i in years:\n",
    "    X_encode_df[i] = pd.concat([X_raw_df[i].drop(columns=['weekday']), encoded_df[i]], axis=1) "
   ]
  },
  {
   "cell_type": "code",
   "execution_count": 41,
   "metadata": {},
   "outputs": [],
   "source": [
    "X_mat = {}\n",
    "y_mat = {}\n",
    "for i in years:\n",
    "    X_mat[i] = X_encode_df[i].values\n",
    "    y_mat[i] = y_df[i].values"
   ]
  },
  {
   "cell_type": "markdown",
   "metadata": {},
   "source": [
    "# Cross Validation"
   ]
  },
  {
   "cell_type": "code",
   "execution_count": 65,
   "metadata": {},
   "outputs": [
    {
     "name": "stderr",
     "output_type": "stream",
     "text": [
      "/Users/qiaochug/Documents/CurrentCourses/CIS520/Project/chicagotaxi/lib/python3.6/site-packages/ipykernel_launcher.py:14: UserWarning: With alpha=0, this algorithm does not converge well. You are advised to use the LinearRegression estimator\n",
      "  \n",
      "/Users/qiaochug/Documents/CurrentCourses/CIS520/Project/chicagotaxi/lib/python3.6/site-packages/sklearn/linear_model/coordinate_descent.py:478: UserWarning: Coordinate descent with no regularization may lead to unexpected results and is discouraged.\n",
      "  positive)\n"
     ]
    },
    {
     "ename": "KeyboardInterrupt",
     "evalue": "",
     "output_type": "error",
     "traceback": [
      "\u001b[0;31m---------------------------------------------------------------------------\u001b[0m",
      "\u001b[0;31mKeyboardInterrupt\u001b[0m                         Traceback (most recent call last)",
      "\u001b[0;32m<ipython-input-65-b3f98ee67fdd>\u001b[0m in \u001b[0;36m<module>\u001b[0;34m\u001b[0m\n\u001b[1;32m     12\u001b[0m         \u001b[0mi\u001b[0m \u001b[0;34m=\u001b[0m \u001b[0mtrain_year_vec\u001b[0m\u001b[0;34m[\u001b[0m\u001b[0mi_iter\u001b[0m\u001b[0;34m]\u001b[0m\u001b[0;34m\u001b[0m\u001b[0m\n\u001b[1;32m     13\u001b[0m \u001b[0;34m\u001b[0m\u001b[0m\n\u001b[0;32m---> 14\u001b[0;31m         \u001b[0mreg\u001b[0m \u001b[0;34m=\u001b[0m \u001b[0mlinear_model\u001b[0m\u001b[0;34m.\u001b[0m\u001b[0mLasso\u001b[0m\u001b[0;34m(\u001b[0m\u001b[0malpha\u001b[0m\u001b[0;34m=\u001b[0m\u001b[0mk\u001b[0m\u001b[0;34m)\u001b[0m\u001b[0;34m.\u001b[0m\u001b[0mfit\u001b[0m\u001b[0;34m(\u001b[0m\u001b[0mX_mat\u001b[0m\u001b[0;34m[\u001b[0m\u001b[0mi\u001b[0m\u001b[0;34m]\u001b[0m\u001b[0;34m,\u001b[0m \u001b[0my_mat\u001b[0m\u001b[0;34m[\u001b[0m\u001b[0mi\u001b[0m\u001b[0;34m]\u001b[0m\u001b[0;34m)\u001b[0m\u001b[0;34m\u001b[0m\u001b[0m\n\u001b[0m\u001b[1;32m     15\u001b[0m         \u001b[0mscore_result_mat\u001b[0m\u001b[0;34m[\u001b[0m\u001b[0mk_iter\u001b[0m\u001b[0;34m,\u001b[0m \u001b[0mi_iter\u001b[0m\u001b[0;34m]\u001b[0m \u001b[0;34m=\u001b[0m \u001b[0mreg\u001b[0m\u001b[0;34m.\u001b[0m\u001b[0mscore\u001b[0m\u001b[0;34m(\u001b[0m\u001b[0mX_mat\u001b[0m\u001b[0;34m[\u001b[0m\u001b[0mi\u001b[0m\u001b[0;34m+\u001b[0m\u001b[0;36m1\u001b[0m\u001b[0;34m]\u001b[0m\u001b[0;34m,\u001b[0m \u001b[0my_mat\u001b[0m\u001b[0;34m[\u001b[0m\u001b[0mi\u001b[0m\u001b[0;34m+\u001b[0m\u001b[0;36m1\u001b[0m\u001b[0;34m]\u001b[0m\u001b[0;34m)\u001b[0m\u001b[0;34m\u001b[0m\u001b[0m\n\u001b[1;32m     16\u001b[0m         \u001b[0mparam_mat\u001b[0m\u001b[0;34m[\u001b[0m\u001b[0mk_iter\u001b[0m\u001b[0;34m,\u001b[0m \u001b[0mi_iter\u001b[0m\u001b[0;34m]\u001b[0m \u001b[0;34m=\u001b[0m \u001b[0mreg\u001b[0m\u001b[0;34m.\u001b[0m\u001b[0mcoef_\u001b[0m\u001b[0;34m\u001b[0m\u001b[0m\n",
      "\u001b[0;32m~/Documents/CurrentCourses/CIS520/Project/chicagotaxi/lib/python3.6/site-packages/sklearn/linear_model/coordinate_descent.py\u001b[0m in \u001b[0;36mfit\u001b[0;34m(self, X, y, check_input)\u001b[0m\n\u001b[1;32m    760\u001b[0m                           \u001b[0mrandom_state\u001b[0m\u001b[0;34m=\u001b[0m\u001b[0mself\u001b[0m\u001b[0;34m.\u001b[0m\u001b[0mrandom_state\u001b[0m\u001b[0;34m,\u001b[0m\u001b[0;34m\u001b[0m\u001b[0m\n\u001b[1;32m    761\u001b[0m                           \u001b[0mselection\u001b[0m\u001b[0;34m=\u001b[0m\u001b[0mself\u001b[0m\u001b[0;34m.\u001b[0m\u001b[0mselection\u001b[0m\u001b[0;34m,\u001b[0m\u001b[0;34m\u001b[0m\u001b[0m\n\u001b[0;32m--> 762\u001b[0;31m                           check_input=False)\n\u001b[0m\u001b[1;32m    763\u001b[0m             \u001b[0mcoef_\u001b[0m\u001b[0;34m[\u001b[0m\u001b[0mk\u001b[0m\u001b[0;34m]\u001b[0m \u001b[0;34m=\u001b[0m \u001b[0mthis_coef\u001b[0m\u001b[0;34m[\u001b[0m\u001b[0;34m:\u001b[0m\u001b[0;34m,\u001b[0m \u001b[0;36m0\u001b[0m\u001b[0;34m]\u001b[0m\u001b[0;34m\u001b[0m\u001b[0m\n\u001b[1;32m    764\u001b[0m             \u001b[0mdual_gaps_\u001b[0m\u001b[0;34m[\u001b[0m\u001b[0mk\u001b[0m\u001b[0;34m]\u001b[0m \u001b[0;34m=\u001b[0m \u001b[0mthis_dual_gap\u001b[0m\u001b[0;34m[\u001b[0m\u001b[0;36m0\u001b[0m\u001b[0;34m]\u001b[0m\u001b[0;34m\u001b[0m\u001b[0m\n",
      "\u001b[0;32m~/Documents/CurrentCourses/CIS520/Project/chicagotaxi/lib/python3.6/site-packages/sklearn/linear_model/coordinate_descent.py\u001b[0m in \u001b[0;36menet_path\u001b[0;34m(X, y, l1_ratio, eps, n_alphas, alphas, precompute, Xy, copy_X, coef_init, verbose, return_n_iter, positive, check_input, **params)\u001b[0m\n\u001b[1;32m    476\u001b[0m             model = cd_fast.enet_coordinate_descent(\n\u001b[1;32m    477\u001b[0m                 \u001b[0mcoef_\u001b[0m\u001b[0;34m,\u001b[0m \u001b[0ml1_reg\u001b[0m\u001b[0;34m,\u001b[0m \u001b[0ml2_reg\u001b[0m\u001b[0;34m,\u001b[0m \u001b[0mX\u001b[0m\u001b[0;34m,\u001b[0m \u001b[0my\u001b[0m\u001b[0;34m,\u001b[0m \u001b[0mmax_iter\u001b[0m\u001b[0;34m,\u001b[0m \u001b[0mtol\u001b[0m\u001b[0;34m,\u001b[0m \u001b[0mrng\u001b[0m\u001b[0;34m,\u001b[0m \u001b[0mrandom\u001b[0m\u001b[0;34m,\u001b[0m\u001b[0;34m\u001b[0m\u001b[0m\n\u001b[0;32m--> 478\u001b[0;31m                 positive)\n\u001b[0m\u001b[1;32m    479\u001b[0m         \u001b[0;32melse\u001b[0m\u001b[0;34m:\u001b[0m\u001b[0;34m\u001b[0m\u001b[0m\n\u001b[1;32m    480\u001b[0m             raise ValueError(\"Precompute should be one of True, False, \"\n",
      "\u001b[0;31mKeyboardInterrupt\u001b[0m: "
     ]
    }
   ],
   "source": [
    "k_vec = [0, 0.001, 0.01, 0.1, 1]\n",
    "train_year_vec = [13, 14, 15]\n",
    "num_k = len(k_vec)\n",
    "num_year = len(train_year_vec)\n",
    "score_result_mat = np.zeros([num_k,num_year])\n",
    "test_error_mat = np.zeros([num_k,num_year])\n",
    "param_mat = np.zeros([num_k,num_year,len(X_encode_df[16].columns.values)])\n",
    "\n",
    "for k_iter in range(0,num_k):\n",
    "    for i_iter in range(0,num_year):\n",
    "        k = k_vec[k_iter]\n",
    "        i = train_year_vec[i_iter]\n",
    "        \n",
    "        reg = linear_model.Lasso(alpha=k).fit(X_mat[i], y_mat[i])\n",
    "        score_result_mat[k_iter, i_iter] = reg.score(X_mat[i+1], y_mat[i+1])\n",
    "        param_mat[k_iter, i_iter] = reg.coef_\n",
    "        \n",
    "        reg_pred = reg.predict(X_mat[i+1])\n",
    "        test_error_mat[k_iter, i_iter] = mean_squared_error(y_true = y_mat[i+1], y_pred = reg_pred)        "
   ]
  },
  {
   "cell_type": "code",
   "execution_count": 62,
   "metadata": {},
   "outputs": [
    {
     "data": {
      "text/plain": [
       "array([[711.36656398, 601.74575871, 397.44055784],\n",
       "       [711.41402717, 601.70236153, 397.35943061],\n",
       "       [712.40726696, 602.01892412, 397.39278509],\n",
       "       [717.907509  , 606.13016934, 399.94564098]])"
      ]
     },
     "execution_count": 62,
     "metadata": {},
     "output_type": "execute_result"
    }
   ],
   "source": [
    "test_error_mat"
   ]
  },
  {
   "cell_type": "code",
   "execution_count": 63,
   "metadata": {
    "scrolled": true
   },
   "outputs": [
    {
     "data": {
      "text/plain": [
       "array([[0.97466425, 0.97360093, 0.97167469],\n",
       "       [0.97466256, 0.97360283, 0.97168047],\n",
       "       [0.97462719, 0.97358894, 0.9716781 ],\n",
       "       [0.9744313 , 0.97340858, 0.97149616]])"
      ]
     },
     "execution_count": 63,
     "metadata": {},
     "output_type": "execute_result"
    }
   ],
   "source": [
    "score_result_mat"
   ]
  },
  {
   "cell_type": "code",
   "execution_count": 64,
   "metadata": {},
   "outputs": [
    {
     "data": {
      "text/plain": [
       "array([[[ 0.37932226,  0.1657893 ,  0.12502806,  1.640346  ,\n",
       "          0.90803046, -1.80436862,  0.49579814,  0.74767697,\n",
       "          0.16610549,  0.00948971, -0.06866296,  1.61460415,\n",
       "         -0.77851625,  0.13056322, -0.26123467, -0.05419175,\n",
       "          0.        ,  0.24095701,  0.77776847,  0.48134169,\n",
       "         -0.96389792,  0.24029411,  3.16981726, -3.65515598],\n",
       "        [ 0.10160228,  0.09461537,  0.15235216,  1.73848502,\n",
       "          1.11454385, -2.17617959,  0.54329504,  0.93323264,\n",
       "          0.17938221,  0.00475688, -0.0921648 ,  1.64613586,\n",
       "         -0.82762938,  0.14974624, -0.35772014, -0.04332942,\n",
       "          0.        ,  0.21333768,  0.84359387,  0.39067447,\n",
       "         -1.1511576 ,  0.25730406,  3.68860001, -4.17671863],\n",
       "        [-0.13000906,  0.15145637,  0.11926214,  1.23859575,\n",
       "          1.01412043, -2.13802958,  0.42852901,  0.99528793,\n",
       "          0.0939045 , -0.05104826, -0.14449879,  1.61970567,\n",
       "         -0.7912399 ,  0.13969561, -0.30258742, -0.04313313,\n",
       "         -0.        ,  0.06718442,  0.51691122,  0.18416827,\n",
       "         -0.97976819,  0.20981151,  3.46362919, -3.76976499]],\n",
       "\n",
       "       [[ 0.2346902 ,  0.01305186,  0.        ,  1.54322601,\n",
       "          0.80117246, -1.77301978,  0.5812198 ,  0.58457183,\n",
       "          0.05984811,  0.        , -0.05233827,  1.6148112 ,\n",
       "         -0.77869123,  0.13067203, -0.20568364, -0.        ,\n",
       "         -0.        ,  0.17627111,  0.70964756,  0.4134314 ,\n",
       "         -0.90405772,  0.1883646 ,  2.96768985, -3.4100205 ],\n",
       "        [ 0.01767966,  0.        ,  0.00855931,  1.64152019,\n",
       "          1.01806761, -2.14763487,  0.62883443,  0.769901  ,\n",
       "          0.08085548,  0.00820336, -0.07162323,  1.64632378,\n",
       "         -0.82779806,  0.14984245, -0.28867565, -0.        ,\n",
       "         -0.        ,  0.13001478,  0.77016212,  0.3290184 ,\n",
       "         -1.08608479,  0.20545767,  3.48647038, -3.93186411],\n",
       "        [-0.06144095,  0.10274064,  0.        ,  1.14098387,\n",
       "          0.91756992, -2.11203278,  0.51428207,  0.83124201,\n",
       "          0.        , -0.03445421, -0.12443898,  1.61990561,\n",
       "         -0.79141876,  0.1398057 , -0.23970904, -0.        ,\n",
       "         -0.        ,  0.        ,  0.44322774,  0.11141241,\n",
       "         -0.91909606,  0.15803532,  3.26063352, -3.52455521]],\n",
       "\n",
       "       [[ 0.        , -0.        , -0.        ,  0.58278254,\n",
       "          0.        , -1.6550255 ,  0.76597365, -0.        ,\n",
       "          0.        , -0.        ,  0.        ,  1.61645488,\n",
       "         -0.77993907,  0.13143517, -0.        , -0.        ,\n",
       "         -0.        ,  0.        ,  0.        ,  0.        ,\n",
       "         -0.34729363,  0.        ,  1.70108576, -2.03140726],\n",
       "        [ 0.        ,  0.        , -0.        ,  0.6375317 ,\n",
       "          0.16867343, -2.0250499 ,  0.89765857,  0.        ,\n",
       "          0.        , -0.        , -0.        ,  1.64787237,\n",
       "         -0.82909564,  0.15058352, -0.        , -0.        ,\n",
       "         -0.        ,  0.        ,  0.09345136,  0.        ,\n",
       "         -0.47677164,  0.        ,  2.09646247, -2.39735816],\n",
       "        [-0.        ,  0.        , -0.        ,  0.13319099,\n",
       "          0.07176124, -1.98782264,  0.76680145,  0.        ,\n",
       "         -0.        , -0.        , -0.        ,  1.62157579,\n",
       "         -0.79278511,  0.14061042, -0.        , -0.        ,\n",
       "          0.        ,  0.        ,  0.        ,  0.        ,\n",
       "         -0.23504424, -0.        ,  1.84123224, -1.98180013]],\n",
       "\n",
       "       [[ 0.        , -0.        , -0.        ,  0.        ,\n",
       "         -0.        , -0.        ,  0.        , -0.        ,\n",
       "         -0.        , -0.        ,  0.        ,  1.6175397 ,\n",
       "         -0.77395417,  0.12709233, -0.        , -0.        ,\n",
       "         -0.        ,  0.        ,  0.        ,  0.        ,\n",
       "         -0.        ,  0.        ,  0.        , -0.        ],\n",
       "        [ 0.        ,  0.        , -0.        ,  0.        ,\n",
       "          0.        , -0.28785746,  0.        , -0.        ,\n",
       "         -0.        , -0.        ,  0.        ,  1.65012695,\n",
       "         -0.82580662,  0.14780267, -0.        , -0.        ,\n",
       "         -0.        ,  0.        ,  0.        ,  0.        ,\n",
       "         -0.        ,  0.        ,  0.        , -0.        ],\n",
       "        [-0.        ,  0.        , -0.        ,  0.        ,\n",
       "          0.        , -0.19860088,  0.        , -0.        ,\n",
       "         -0.        , -0.        ,  0.        ,  1.62281606,\n",
       "         -0.78739751,  0.13638838, -0.        ,  0.        ,\n",
       "          0.        ,  0.        ,  0.        ,  0.        ,\n",
       "         -0.        ,  0.        ,  0.        , -0.        ]]])"
      ]
     },
     "execution_count": 64,
     "metadata": {},
     "output_type": "execute_result"
    }
   ],
   "source": [
    "param_mat"
   ]
  },
  {
   "cell_type": "code",
   "execution_count": 35,
   "metadata": {},
   "outputs": [
    {
     "name": "stdout",
     "output_type": "stream",
     "text": [
      "1 dayofyear -0.06 True\n",
      "2 dayofyear_sin 0.1 True\n",
      "3 dayofyear_cos 0.0 False\n",
      "4 hour 1.14 True\n",
      "5 hour_sin 0.95 True\n",
      "6 hour_cos -2.12 True\n",
      "7 lat 1.21 True\n",
      "8 lon -1.24 True\n",
      "9 temperature 0.0 False\n",
      "10 wind_speed -0.03 True\n",
      "11 humidity -0.12 True\n",
      "12 lag1 1.62 True\n",
      "13 lag2 -0.79 True\n",
      "14 lag3 0.14 True\n",
      "15 Monday -0.23 True\n",
      "16 Tuesday -0.0 False\n",
      "17 Wedneseday -0.0 False\n",
      "18 Thursday 0.0 False\n",
      "19 Friday 0.43 True\n",
      "20 Saturday 0.1 True\n",
      "21 Sunday -0.92 True\n"
     ]
    }
   ],
   "source": [
    "for i in range(0, len(reg.coef_)):\n",
    "    print(\"{2} {0} {1} {3}\".format(X_encode_df[16].columns.values[i], round(reg.coef_[i], 2),i+1, round(reg.coef_[i], 2) != 0))"
   ]
  },
  {
   "cell_type": "code",
   "execution_count": 34,
   "metadata": {},
   "outputs": [
    {
     "data": {
      "text/plain": [
       "398.20181164189665"
      ]
     },
     "execution_count": 34,
     "metadata": {},
     "output_type": "execute_result"
    }
   ],
   "source": []
  },
  {
   "cell_type": "markdown",
   "metadata": {},
   "source": [
    "# Add 2dg terms for lon and lat"
   ]
  },
  {
   "cell_type": "code",
   "execution_count": 59,
   "metadata": {},
   "outputs": [],
   "source": [
    "for i in years:\n",
    "    X_encode_df[i]['lat_sq'] = round(X_encode_df[i].lat.pow(2),4)\n",
    "    X_encode_df[i]['lon_sq'] = round(X_encode_df[i].lon.pow(2),4)\n",
    "    X_encode_df[i]['latXlon'] = round(X_encode_df[i].lat*X_encode_df[i].lon, 4)"
   ]
  },
  {
   "cell_type": "code",
   "execution_count": 60,
   "metadata": {},
   "outputs": [],
   "source": [
    "X_mat = {}\n",
    "y_mat = {}\n",
    "for i in years:\n",
    "    X_mat[i] = X_encode_df[i].values\n",
    "    y_mat[i] = y_df[i].values"
   ]
  },
  {
   "cell_type": "code",
   "execution_count": 87,
   "metadata": {},
   "outputs": [],
   "source": [
    "reg2 = LinearRegression().fit(X_mat[15], y_mat[15])"
   ]
  },
  {
   "cell_type": "markdown",
   "metadata": {},
   "source": [
    "## R^2"
   ]
  },
  {
   "cell_type": "code",
   "execution_count": 88,
   "metadata": {},
   "outputs": [
    {
     "data": {
      "text/plain": [
       "0.9716738330784118"
      ]
     },
     "execution_count": 88,
     "metadata": {},
     "output_type": "execute_result"
    }
   ],
   "source": [
    "reg2.score(X_mat[16], y_mat[16])"
   ]
  },
  {
   "cell_type": "code",
   "execution_count": 91,
   "metadata": {},
   "outputs": [
    {
     "name": "stdout",
     "output_type": "stream",
     "text": [
      "1 dayofyear -0.14\n",
      "2 dayofyear_sin 0.16\n",
      "3 dayofyear_cos 0.14\n",
      "4 hour 1.25\n",
      "5 hour_sin 1.03\n",
      "6 hour_cos -2.14\n",
      "7 lat 0.42\n",
      "8 lon 1.01\n",
      "9 temperature 0.11\n",
      "10 wind_speed -0.05\n",
      "11 humidity -0.15\n",
      "12 lag1 1.62\n",
      "13 lag2 -0.79\n",
      "14 lag3 0.14\n",
      "15 Monday -0.23\n",
      "16 Tuesday 0.03\n",
      "17 Wedneseday 0.08\n",
      "18 Thursday 0.15\n",
      "19 Friday 0.6\n",
      "20 Saturday 0.27\n",
      "21 Sunday -0.91\n",
      "22 lat_sq 0.22\n",
      "23 lon_sq 3.49\n",
      "24 latXlon -3.8\n"
     ]
    }
   ],
   "source": [
    "for i in range(0, len(reg2.coef_[0])):\n",
    "    print(\"{2} {0} {1}\".format(X_encode_df[16].columns.values[i], round(reg2.coef_[0][i], 2),i+1))"
   ]
  },
  {
   "cell_type": "markdown",
   "metadata": {},
   "source": [
    "## Mean Square Error"
   ]
  },
  {
   "cell_type": "code",
   "execution_count": 52,
   "metadata": {},
   "outputs": [
    {
     "data": {
      "text/plain": [
       "397.4526127896189"
      ]
     },
     "execution_count": 52,
     "metadata": {},
     "output_type": "execute_result"
    }
   ],
   "source": [
    "reg2_pred16 = reg2.predict(X_mat[16])\n",
    "mean_squared_error(y_true = y_mat[16], y_pred = reg2_pred16)"
   ]
  },
  {
   "cell_type": "markdown",
   "metadata": {},
   "source": [
    "## Analyze error distribution"
   ]
  },
  {
   "cell_type": "code",
   "execution_count": 34,
   "metadata": {},
   "outputs": [
    {
     "data": {
      "text/plain": [
       "(array([6.00000e+00, 3.70000e+01, 2.82000e+02, 1.55500e+03, 3.76326e+05,\n",
       "        1.14000e+04, 1.39600e+03, 2.80000e+02, 2.70000e+01, 5.00000e+00]),\n",
       " array([-382.61772539, -303.81389611, -225.01006684, -146.20623756,\n",
       "         -67.40240828,   11.40142099,   90.20525027,  169.00907954,\n",
       "         247.81290882,  326.61673809,  405.42056737]),\n",
       " <a list of 10 Patch objects>)"
      ]
     },
     "execution_count": 34,
     "metadata": {},
     "output_type": "execute_result"
    },
    {
     "data": {
      "image/png": "[encoded data removed]",
      "text/plain": [
       "<Figure size 432x288 with 1 Axes>"
      ]
     },
     "metadata": {
      "needs_background": "light"
     },
     "output_type": "display_data"
    }
   ],
   "source": [
    "plt.hist(x = (y_mat[17] - reg2_pred16).reshape(1,-1)[0])"
   ]
  },
  {
   "cell_type": "markdown",
   "metadata": {},
   "source": [
    "## Results (ARIMA)\n",
    "### Original terms: \n",
    "#### Train 2015, Test 2016: Test R^2 0.97, Test MSE 398\n",
    "### Lon Lat Sq terms: \n",
    "#### Train 2015, Test 2016: Test R^2 0.97, Test MSE 397"
   ]
  },
  {
   "cell_type": "markdown",
   "metadata": {},
   "source": [
    "# 1dg Results"
   ]
  },
  {
   "cell_type": "code",
   "execution_count": 56,
   "metadata": {},
   "outputs": [
    {
     "data": {
      "text/plain": [
       "array([[713.10205719, 603.25319267, 398.26168699],\n",
       "       [713.12840409, 603.20842295, 398.20181164],\n",
       "       [713.81461665, 603.33902428, 398.20848347],\n",
       "       [717.90750322, 606.13017166, 399.94564135]])"
      ]
     },
     "execution_count": 56,
     "metadata": {},
     "output_type": "execute_result"
    }
   ],
   "source": [
    "# k_vec = [0.001, 0.01, 0.1, 1]\n",
    "# train_year_vec = [13, 14, 15]\n",
    "test_error_mat"
   ]
  },
  {
   "cell_type": "code",
   "execution_count": 57,
   "metadata": {
    "scrolled": true
   },
   "outputs": [
    {
     "data": {
      "text/plain": [
       "array([[0.97460244, 0.9735348 , 0.97161617],\n",
       "       [0.97460151, 0.97353676, 0.97162044],\n",
       "       [0.97457707, 0.97353103, 0.97161996],\n",
       "       [0.9744313 , 0.97340858, 0.97149616]])"
      ]
     },
     "execution_count": 57,
     "metadata": {},
     "output_type": "execute_result"
    }
   ],
   "source": [
    "score_result_mat"
   ]
  },
  {
   "cell_type": "code",
   "execution_count": 58,
   "metadata": {},
   "outputs": [
    {
     "data": {
      "text/plain": [
       "array([[[ 0.36148101,  0.16380299,  0.12975003,  1.63814087,\n",
       "          0.9388111 , -1.82053919,  1.32835996, -1.45622837,\n",
       "          0.16654598,  0.00864984, -0.06919413,  1.61744077,\n",
       "         -0.78168598,  0.13340298, -0.2550974 , -0.05073513,\n",
       "          0.        ,  0.23450092,  0.75867669,  0.45700947,\n",
       "         -0.97681921],\n",
       "        [ 0.09703123,  0.09187589,  0.16545516,  1.73559423,\n",
       "          1.15345119, -2.19336325,  1.4722177 , -1.58757843,\n",
       "          0.18455331,  0.00453062, -0.0930639 ,  1.64905639,\n",
       "         -0.83099261,  0.15266465, -0.34947056, -0.038527  ,\n",
       "          0.        ,  0.20783236,  0.8245904 ,  0.36634748,\n",
       "         -1.16152592],\n",
       "        [-0.12644166,  0.14955   ,  0.12955853,  1.23463204,\n",
       "          1.05253409, -2.15022096,  1.23673235, -1.2869302 ,\n",
       "          0.09990805, -0.05108355, -0.14403693,  1.62261095,\n",
       "         -0.79448115,  0.14259147, -0.29420486, -0.03936098,\n",
       "         -0.        ,  0.06234464,  0.50384552,  0.17361973,\n",
       "         -0.97996469]],\n",
       "\n",
       "       [[ 0.21769966,  0.00955672,  0.        ,  1.54113437,\n",
       "          0.83039177, -1.78823625,  1.29812445, -1.41043385,\n",
       "          0.05737896,  0.        , -0.05301025,  1.61754311,\n",
       "         -0.78174384,  0.13340673, -0.20153503, -0.        ,\n",
       "         -0.        ,  0.16856862,  0.68962749,  0.38824776,\n",
       "         -0.91811942],\n",
       "        [ 0.01477195,  0.        ,  0.02207887,  1.63871604,\n",
       "          1.05569802, -2.16423449,  1.4423406 , -1.54220881,\n",
       "          0.08679689,  0.00795258, -0.07198291,  1.64914857,\n",
       "         -0.83105106,  0.15266521, -0.28305861, -0.        ,\n",
       "         -0.        ,  0.12246296,  0.74948427,  0.3031439 ,\n",
       "         -1.098434  ],\n",
       "        [-0.0551626 ,  0.09829743,  0.        ,  1.13737902,\n",
       "          0.95368749, -2.12279193,  1.20711122, -1.2418917 ,\n",
       "          0.        , -0.03370903, -0.12309831,  1.62270191,\n",
       "         -0.79453846,  0.14259262, -0.2308512 , -0.        ,\n",
       "         -0.        ,  0.        ,  0.43082858,  0.10149907,\n",
       "         -0.91863411]],\n",
       "\n",
       "       [[ 0.        , -0.        , -0.        ,  0.56232541,\n",
       "          0.        , -1.66742701,  0.99813475, -0.95508411,\n",
       "          0.        , -0.        ,  0.        ,  1.61836422,\n",
       "         -0.7820826 ,  0.13335222, -0.        , -0.        ,\n",
       "         -0.        ,  0.        ,  0.        ,  0.        ,\n",
       "         -0.35163691],\n",
       "        [ 0.        ,  0.        , -0.        ,  0.63566844,\n",
       "          0.19541439, -2.03639212,  1.14423783, -1.08923348,\n",
       "          0.        , -0.        , -0.        ,  1.64991582,\n",
       "         -0.83144808,  0.15262466, -0.        , -0.        ,\n",
       "         -0.        ,  0.        ,  0.08243953,  0.        ,\n",
       "         -0.48140697],\n",
       "        [-0.        ,  0.        , -0.        ,  0.1307219 ,\n",
       "          0.09648245, -1.99537262,  0.91192696, -0.79257693,\n",
       "         -0.        , -0.        , -0.        ,  1.62348019,\n",
       "         -0.79490979,  0.14250947, -0.        , -0.        ,\n",
       "          0.        ,  0.        ,  0.        ,  0.        ,\n",
       "         -0.23319312]],\n",
       "\n",
       "       [[ 0.        , -0.        , -0.        ,  0.        ,\n",
       "         -0.        , -0.        ,  0.        , -0.        ,\n",
       "         -0.        , -0.        ,  0.        ,  1.6175398 ,\n",
       "         -0.77395435,  0.12709241, -0.        , -0.        ,\n",
       "         -0.        ,  0.        ,  0.        ,  0.        ,\n",
       "         -0.        ],\n",
       "        [ 0.        ,  0.        , -0.        ,  0.        ,\n",
       "          0.        , -0.28785737,  0.        , -0.        ,\n",
       "         -0.        , -0.        ,  0.        ,  1.65012704,\n",
       "         -0.82580678,  0.14780274, -0.        , -0.        ,\n",
       "         -0.        ,  0.        ,  0.        ,  0.        ,\n",
       "         -0.        ],\n",
       "        [-0.        ,  0.        , -0.        ,  0.        ,\n",
       "          0.        , -0.1986008 ,  0.        , -0.        ,\n",
       "         -0.        , -0.        ,  0.        ,  1.62281614,\n",
       "         -0.78739764,  0.13638844, -0.        ,  0.        ,\n",
       "          0.        ,  0.        ,  0.        ,  0.        ,\n",
       "         -0.        ]]])"
      ]
     },
     "execution_count": 58,
     "metadata": {},
     "output_type": "execute_result"
    }
   ],
   "source": [
    "param_mat"
   ]
  },
  {
   "cell_type": "code",
   "execution_count": null,
   "metadata": {},
   "outputs": [],
   "source": []
  }
 ],
 "metadata": {
  "kernelspec": {
   "display_name": "chicagotaxi",
   "language": "python",
   "name": "chicagotaxi"
  },
  "language_info": {
   "codemirror_mode": {
    "name": "ipython",
    "version": 3
   },
   "file_extension": ".py",
   "mimetype": "text/x-python",
   "name": "python",
   "nbconvert_exporter": "python",
   "pygments_lexer": "ipython3",
   "version": "3.6.0"
  }
 },
 "nbformat": 4,
 "nbformat_minor": 2
}
