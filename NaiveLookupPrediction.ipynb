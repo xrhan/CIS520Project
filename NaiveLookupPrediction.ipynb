{
 "cells": [
  {
   "cell_type": "code",
   "execution_count": 1,
   "metadata": {},
   "outputs": [],
   "source": [
    "import csv\n",
    "import pandas as pd\n",
    "import numpy as np\n",
    "#from sklearn import\n",
    "from sklearn.linear_model import LinearRegression\n",
    "from sklearn.preprocessing import OneHotEncoder\n",
    "from sklearn.metrics import mean_squared_error\n",
    "import matplotlib.pyplot as plt\n",
    "import statsmodels.api as sm\n",
    "from scipy import stats\n",
    "%matplotlib inline"
   ]
  },
  {
   "cell_type": "markdown",
   "metadata": {},
   "source": [
    "## Years to Load"
   ]
  },
  {
   "cell_type": "code",
   "execution_count": 22,
   "metadata": {},
   "outputs": [],
   "source": [
    "years = [14, 15]"
   ]
  },
  {
   "cell_type": "code",
   "execution_count": 23,
   "metadata": {},
   "outputs": [],
   "source": [
    "taxi_df = {}\n",
    "\n",
    "for i in years:\n",
    "    taxi_df[i] = pd.read_csv(\"../dataset_4_02_modified/20\" + str(i) \\\n",
    "                            + \"lag.csv\", sep = \",\")\n",
    "# \"2016\" and before\n",
    "# taxi_df[15] = pd.concat([taxi_df[15], taxi_df[16]], axis = 0)\\\n",
    "#               .reset_index().drop(columns = ['index'])"
   ]
  },
  {
   "cell_type": "markdown",
   "metadata": {},
   "source": [
    "# Naive Lookup Previous Year"
   ]
  },
  {
   "cell_type": "code",
   "execution_count": 24,
   "metadata": {},
   "outputs": [],
   "source": [
    "for i in years:\n",
    "    taxi_df[i][\"Short Timestamp\"] = pd.to_datetime(taxi_df[i][\"Trip Start Timestamp\"], format='%Y/%m/%d %H')\\\n",
    "                                    .dt.strftime('%m/%d %H')"
   ]
  },
  {
   "cell_type": "code",
   "execution_count": 25,
   "metadata": {},
   "outputs": [],
   "source": [
    "lookup_df = taxi_df[14][[\"Short Timestamp\", \"Count\", \"Pickup Community Area\"]]\\\n",
    "            .merge(right = taxi_df[15][[\"Short Timestamp\", \"Count\", \"Pickup Community Area\"]],\\\n",
    "                   on = [\"Short Timestamp\", \"Pickup Community Area\"], how = \"inner\")"
   ]
  },
  {
   "cell_type": "markdown",
   "metadata": {},
   "source": [
    "## Mean Square Error"
   ]
  },
  {
   "cell_type": "code",
   "execution_count": 26,
   "metadata": {},
   "outputs": [
    {
     "data": {
      "text/plain": [
       "5057.89004051186"
      ]
     },
     "execution_count": 26,
     "metadata": {},
     "output_type": "execute_result"
    }
   ],
   "source": [
    "mean_squared_error(y_true = lookup_df[\"Count_x\"], y_pred =  lookup_df[\"Count_y\"])"
   ]
  },
  {
   "cell_type": "markdown",
   "metadata": {},
   "source": [
    "# Naive Lookup Previous Hour"
   ]
  },
  {
   "cell_type": "markdown",
   "metadata": {},
   "source": [
    "## Mean Square Error"
   ]
  },
  {
   "cell_type": "code",
   "execution_count": 21,
   "metadata": {},
   "outputs": [
    {
     "data": {
      "text/plain": [
       "941.1593802531947"
      ]
     },
     "execution_count": 21,
     "metadata": {},
     "output_type": "execute_result"
    }
   ],
   "source": [
    "mean_squared_error(y_true = taxi_df[15][\"Count\"], y_pred = taxi_df[15][\"lag1\"])"
   ]
  },
  {
   "cell_type": "markdown",
   "metadata": {},
   "source": [
    "### Results\n",
    "#### Naive Lookup Previous Year: 2015 to 2016 MSE = 6557\n",
    "#### Naive Lookup Previous Hour: 2016 MSE = 607\n",
    "\n",
    "\n",
    "#### Naive Lookup Previous Year: 2015 to 2016 MSE = 5057\n",
    "#### Naive Lookup Previous Hour: 2015 MSE = 941"
   ]
  },
  {
   "cell_type": "code",
   "execution_count": null,
   "metadata": {},
   "outputs": [],
   "source": []
  }
 ],
 "metadata": {
  "kernelspec": {
   "display_name": "chicagotaxi",
   "language": "python",
   "name": "chicagotaxi"
  },
  "language_info": {
   "codemirror_mode": {
    "name": "ipython",
    "version": 3
   },
   "file_extension": ".py",
   "mimetype": "text/x-python",
   "name": "python",
   "nbconvert_exporter": "python",
   "pygments_lexer": "ipython3",
   "version": "3.6.0"
  }
 },
 "nbformat": 4,
 "nbformat_minor": 2
}
