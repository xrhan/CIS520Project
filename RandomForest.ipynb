{
 "cells": [
  {
   "cell_type": "code",
   "execution_count": 49,
   "metadata": {},
   "outputs": [],
   "source": [
    "import csv\n",
    "import pandas as pd\n",
    "import numpy as np\n",
    "#from sklearn import\n",
    "from sklearn.ensemble import RandomForestRegressor\n",
    "from sklearn.preprocessing import OneHotEncoder\n",
    "from sklearn.metrics import mean_squared_error\n",
    "import matplotlib.pyplot as plt\n",
    "%matplotlib inline\n"
   ]
  },
  {
   "cell_type": "code",
   "execution_count": 66,
   "metadata": {},
   "outputs": [],
   "source": [
    "taxi13_df = pd.read_csv(\"LagData/2013lag.csv\", sep = \",\")\n",
    "taxi14_df = pd.read_csv(\"LagData/2014lag.csv\", sep = \",\")\n",
    "taxi15_df = pd.read_csv(\"LagData/2015lag.csv\", sep = \",\")\n",
    "taxi16_df = pd.read_csv(\"LagData/2016lag.csv\", sep = \",\")\n",
    "\n",
    "y13_df = pd.DataFrame(taxi13_df['Count'])\n",
    "X13_raw_df = taxi13_df.drop(columns = ['Pickup Community Area', 'Count','Trip Start Timestamp'])\n",
    "\n",
    "y14_df = pd.DataFrame(taxi14_df['Count'])\n",
    "X14_raw_df = taxi14_df.drop(columns = ['Pickup Community Area', 'Count','Trip Start Timestamp'])\n",
    "\n",
    "y15_df = pd.DataFrame(taxi15_df['Count'])\n",
    "X15_raw_df = taxi15_df.drop(columns = ['Pickup Community Area', 'Count','Trip Start Timestamp'])\n",
    "\n",
    "y16_df = pd.DataFrame(taxi16_df['Count'])\n",
    "X16_raw_df = taxi16_df.drop(columns = ['Pickup Community Area', 'Count','Trip Start Timestamp'])\n",
    "\n",
    "weekdays = ['0','1','2','3','4','5','6']\n",
    "enc = OneHotEncoder(categories=[weekdays])\n",
    "\n",
    "\n",
    "#13\n",
    "enc.fit(X13_raw_df.weekday.values.reshape(-1, 1))\n",
    "encoded = enc.transform(X13_raw_df.weekday.values.reshape(-1, 1))\n",
    "encoded13_df = pd.DataFrame(encoded.toarray().astype(int))\\\n",
    "             .rename(columns = {0: 'Monday', 1:'Tuesday', 2:'Wedneseday',\\\n",
    "                                3:'Thursday', 4:'Friday', 5:'Saturday',\\\n",
    "                                6:'Sunday'})\n",
    "\n",
    "#14\n",
    "enc.fit(X14_raw_df.weekday.values.reshape(-1, 1))\n",
    "encoded = enc.transform(X14_raw_df.weekday.values.reshape(-1, 1))\n",
    "encoded14_df = pd.DataFrame(encoded.toarray().astype(int))\\\n",
    "             .rename(columns = {0: 'Monday', 1:'Tuesday', 2:'Wedneseday',\\\n",
    "                                3:'Thursday', 4:'Friday', 5:'Saturday',\\\n",
    "                                6:'Sunday'})\n",
    "\n",
    "#15\n",
    "enc.fit(X15_raw_df.weekday.values.reshape(-1, 1))\n",
    "encoded = enc.transform(X15_raw_df.weekday.values.reshape(-1, 1))\n",
    "encoded15_df = pd.DataFrame(encoded.toarray().astype(int))\\\n",
    "             .rename(columns = {0: 'Monday', 1:'Tuesday', 2:'Wedneseday',\\\n",
    "                                3:'Thursday', 4:'Friday', 5:'Saturday',\\\n",
    "                                6:'Sunday'})\n",
    "    \n",
    "#16\n",
    "enc.fit(X16_raw_df.weekday.values.reshape(-1, 1))\n",
    "encoded = enc.transform(X16_raw_df.weekday.values.reshape(-1, 1))\n",
    "encoded16_df = pd.DataFrame(encoded.toarray().astype(int))\\\n",
    "             .rename(columns = {0: 'Monday', 1:'Tuesday', 2:'Wedneseday',\\\n",
    "                                3:'Thursday', 4:'Friday', 5:'Saturday',\\\n",
    "                                6:'Sunday'})\n",
    "\n",
    "X13_encode_df = pd.concat([X13_raw_df.drop(columns=['weekday']), encoded13_df], axis=1) \n",
    "\n",
    "X14_encode_df = pd.concat([X14_raw_df.drop(columns=['weekday']), encoded14_df], axis=1) \n",
    "\n",
    "X15_encode_df = pd.concat([X15_raw_df.drop(columns=['weekday']), encoded15_df], axis=1) \n",
    "\n",
    "X16_encode_df = pd.concat([X16_raw_df.drop(columns=['weekday']), encoded16_df], axis=1) \n",
    "\n",
    "# 13\n",
    "X13_encode_df['lat_sq'] = round(X13_encode_df.lat.pow(2),4)\n",
    "X13_encode_df['lon_sq'] = round(X13_encode_df.lon.pow(2),4)\n",
    "X13_encode_df['latXlon'] = X13_encode_df.lat*X13_encode_df.lon\n",
    "# 14\n",
    "X14_encode_df['lat_sq'] = round(X14_encode_df.lat.pow(2),4)\n",
    "X14_encode_df['lon_sq'] = round(X14_encode_df.lon.pow(2),4)\n",
    "X14_encode_df['latXlon'] = X14_encode_df.lat*X14_encode_df.lon\n",
    "# 15\n",
    "X15_encode_df['lat_sq'] = round(X15_encode_df.lat.pow(2),4)\n",
    "X15_encode_df['lon_sq'] = round(X15_encode_df.lon.pow(2),4)\n",
    "X15_encode_df['latXlon'] = X15_encode_df.lat*X15_encode_df.lon\n",
    "# 16\n",
    "X16_encode_df['lat_sq'] = round(X16_encode_df.lat.pow(2),4)\n",
    "X16_encode_df['lon_sq'] = round(X16_encode_df.lon.pow(2),4)\n",
    "X16_encode_df['latXlon'] = X16_encode_df.lat*X16_encode_df.lon\n",
    "\n",
    "#with_count_df_16 = X16_encode_df\n",
    "#with_count_df_16['Count'] = y16_df['Count']\n"
   ]
  },
  {
   "cell_type": "code",
   "execution_count": 56,
   "metadata": {},
   "outputs": [
    {
     "data": {
      "text/html": [
       "<div>\n",
       "<style scoped>\n",
       "    .dataframe tbody tr th:only-of-type {\n",
       "        vertical-align: middle;\n",
       "    }\n",
       "\n",
       "    .dataframe tbody tr th {\n",
       "        vertical-align: top;\n",
       "    }\n",
       "\n",
       "    .dataframe thead th {\n",
       "        text-align: right;\n",
       "    }\n",
       "</style>\n",
       "<table border=\"1\" class=\"dataframe\">\n",
       "  <thead>\n",
       "    <tr style=\"text-align: right;\">\n",
       "      <th></th>\n",
       "      <th>dayofyear</th>\n",
       "      <th>dayofyear_sin</th>\n",
       "      <th>dayofyear_cos</th>\n",
       "      <th>hour</th>\n",
       "      <th>hour_sin</th>\n",
       "      <th>hour_cos</th>\n",
       "      <th>lat</th>\n",
       "      <th>lon</th>\n",
       "      <th>temperature</th>\n",
       "      <th>wind_speed</th>\n",
       "      <th>...</th>\n",
       "      <th>Tuesday</th>\n",
       "      <th>Wedneseday</th>\n",
       "      <th>Thursday</th>\n",
       "      <th>Friday</th>\n",
       "      <th>Saturday</th>\n",
       "      <th>Sunday</th>\n",
       "      <th>lat_sq</th>\n",
       "      <th>lon_sq</th>\n",
       "      <th>latXlon</th>\n",
       "      <th>Count</th>\n",
       "    </tr>\n",
       "  </thead>\n",
       "  <tbody>\n",
       "    <tr>\n",
       "      <th>0</th>\n",
       "      <td>0.562</td>\n",
       "      <td>-0.984</td>\n",
       "      <td>0.179</td>\n",
       "      <td>-0.3</td>\n",
       "      <td>0.87</td>\n",
       "      <td>-0.5</td>\n",
       "      <td>2.1</td>\n",
       "      <td>-0.3</td>\n",
       "      <td>0.55</td>\n",
       "      <td>0.42</td>\n",
       "      <td>...</td>\n",
       "      <td>1</td>\n",
       "      <td>0</td>\n",
       "      <td>0</td>\n",
       "      <td>0</td>\n",
       "      <td>0</td>\n",
       "      <td>0</td>\n",
       "      <td>4.41</td>\n",
       "      <td>0.09</td>\n",
       "      <td>-0.63</td>\n",
       "      <td>5</td>\n",
       "    </tr>\n",
       "    <tr>\n",
       "      <th>1</th>\n",
       "      <td>0.562</td>\n",
       "      <td>-0.984</td>\n",
       "      <td>0.179</td>\n",
       "      <td>-0.3</td>\n",
       "      <td>0.87</td>\n",
       "      <td>-0.5</td>\n",
       "      <td>2.0</td>\n",
       "      <td>-0.1</td>\n",
       "      <td>0.55</td>\n",
       "      <td>0.42</td>\n",
       "      <td>...</td>\n",
       "      <td>1</td>\n",
       "      <td>0</td>\n",
       "      <td>0</td>\n",
       "      <td>0</td>\n",
       "      <td>0</td>\n",
       "      <td>0</td>\n",
       "      <td>4.00</td>\n",
       "      <td>0.01</td>\n",
       "      <td>-0.20</td>\n",
       "      <td>6</td>\n",
       "    </tr>\n",
       "    <tr>\n",
       "      <th>2</th>\n",
       "      <td>0.562</td>\n",
       "      <td>-0.984</td>\n",
       "      <td>0.179</td>\n",
       "      <td>-0.3</td>\n",
       "      <td>0.87</td>\n",
       "      <td>-0.5</td>\n",
       "      <td>1.7</td>\n",
       "      <td>-0.4</td>\n",
       "      <td>0.55</td>\n",
       "      <td>0.42</td>\n",
       "      <td>...</td>\n",
       "      <td>1</td>\n",
       "      <td>0</td>\n",
       "      <td>0</td>\n",
       "      <td>0</td>\n",
       "      <td>0</td>\n",
       "      <td>0</td>\n",
       "      <td>2.89</td>\n",
       "      <td>0.16</td>\n",
       "      <td>-0.68</td>\n",
       "      <td>38</td>\n",
       "    </tr>\n",
       "    <tr>\n",
       "      <th>3</th>\n",
       "      <td>0.562</td>\n",
       "      <td>-0.984</td>\n",
       "      <td>0.179</td>\n",
       "      <td>-0.3</td>\n",
       "      <td>0.87</td>\n",
       "      <td>-0.5</td>\n",
       "      <td>1.7</td>\n",
       "      <td>-0.1</td>\n",
       "      <td>0.55</td>\n",
       "      <td>0.42</td>\n",
       "      <td>...</td>\n",
       "      <td>1</td>\n",
       "      <td>0</td>\n",
       "      <td>0</td>\n",
       "      <td>0</td>\n",
       "      <td>0</td>\n",
       "      <td>0</td>\n",
       "      <td>2.89</td>\n",
       "      <td>0.01</td>\n",
       "      <td>-0.17</td>\n",
       "      <td>3</td>\n",
       "    </tr>\n",
       "    <tr>\n",
       "      <th>4</th>\n",
       "      <td>0.562</td>\n",
       "      <td>-0.984</td>\n",
       "      <td>0.179</td>\n",
       "      <td>-0.3</td>\n",
       "      <td>0.87</td>\n",
       "      <td>-0.5</td>\n",
       "      <td>1.5</td>\n",
       "      <td>-0.2</td>\n",
       "      <td>0.55</td>\n",
       "      <td>0.42</td>\n",
       "      <td>...</td>\n",
       "      <td>1</td>\n",
       "      <td>0</td>\n",
       "      <td>0</td>\n",
       "      <td>0</td>\n",
       "      <td>0</td>\n",
       "      <td>0</td>\n",
       "      <td>2.25</td>\n",
       "      <td>0.04</td>\n",
       "      <td>-0.30</td>\n",
       "      <td>6</td>\n",
       "    </tr>\n",
       "  </tbody>\n",
       "</table>\n",
       "<p>5 rows × 25 columns</p>\n",
       "</div>"
      ],
      "text/plain": [
       "   dayofyear  dayofyear_sin  dayofyear_cos  hour  hour_sin  hour_cos  lat  \\\n",
       "0      0.562         -0.984          0.179  -0.3      0.87      -0.5  2.1   \n",
       "1      0.562         -0.984          0.179  -0.3      0.87      -0.5  2.0   \n",
       "2      0.562         -0.984          0.179  -0.3      0.87      -0.5  1.7   \n",
       "3      0.562         -0.984          0.179  -0.3      0.87      -0.5  1.7   \n",
       "4      0.562         -0.984          0.179  -0.3      0.87      -0.5  1.5   \n",
       "\n",
       "   lon  temperature  wind_speed  ...  Tuesday  Wedneseday  Thursday  Friday  \\\n",
       "0 -0.3         0.55        0.42  ...        1           0         0       0   \n",
       "1 -0.1         0.55        0.42  ...        1           0         0       0   \n",
       "2 -0.4         0.55        0.42  ...        1           0         0       0   \n",
       "3 -0.1         0.55        0.42  ...        1           0         0       0   \n",
       "4 -0.2         0.55        0.42  ...        1           0         0       0   \n",
       "\n",
       "   Saturday  Sunday  lat_sq  lon_sq  latXlon  Count  \n",
       "0         0       0    4.41    0.09    -0.63      5  \n",
       "1         0       0    4.00    0.01    -0.20      6  \n",
       "2         0       0    2.89    0.16    -0.68     38  \n",
       "3         0       0    2.89    0.01    -0.17      3  \n",
       "4         0       0    2.25    0.04    -0.30      6  \n",
       "\n",
       "[5 rows x 25 columns]"
      ]
     },
     "execution_count": 56,
     "metadata": {},
     "output_type": "execute_result"
    }
   ],
   "source": [
    "\n",
    "with_count_df_16.head()"
   ]
  },
  {
   "cell_type": "code",
   "execution_count": 9,
   "metadata": {},
   "outputs": [],
   "source": []
  },
  {
   "cell_type": "code",
   "execution_count": 57,
   "metadata": {},
   "outputs": [
    {
     "name": "stdout",
     "output_type": "stream",
     "text": [
      "--------------- Correlation Matrix ---------------\n"
     ]
    },
    {
     "data": {
      "image/png": "[encoded data removed]",
      "text/plain": [
       "<Figure size 432x288 with 2 Axes>"
      ]
     },
     "metadata": {
      "needs_background": "light"
     },
     "output_type": "display_data"
    }
   ],
   "source": [
    "corr_df = with_count_df_16.corr()\n",
    "\n",
    "%matplotlib inline\n",
    "import seaborn\n",
    "import matplotlib.pyplot as plt\n",
    "print(\"--------------- Correlation Matrix ---------------\")\n",
    "# Create a mask to display only the lower triangle of the matrix (since it's mirrored around its \n",
    "# top-left to bottom-right diagonal).\n",
    "mask = np.zeros_like(corr_df)\n",
    "mask[np.triu_indices_from(mask)] = True\n",
    "# Create the heatmap using seaborn library. \n",
    "# List if colormaps (parameter 'cmap') is available here: http://matplotlib.org/examples/color/colormaps_reference.html\n",
    "\n",
    "seaborn.heatmap(corr_df, cmap='RdYlGn_r', vmax=1.0, vmin=-1 ,mask = mask,  linewidths=3,fmt='.1f')\n",
    " \n",
    "# Show the plot we reorient the labels for each column and row to make them easier to read.\n",
    "plt.yticks(rotation=0,fontsize=9) \n",
    "plt.xticks(rotation=90,fontsize =9) \n",
    "plt.show()"
   ]
  },
  {
   "cell_type": "code",
   "execution_count": 67,
   "metadata": {},
   "outputs": [],
   "source": [
    "X13_mat = X13_encode_df.values\n",
    "y13_mat = y13_df.values\n",
    "X14_mat = X14_encode_df.values\n",
    "y14_mat = y14_df.values\n",
    "X15_mat = X15_encode_df.values\n",
    "y15_mat = y15_df.values\n",
    "X16_mat = X16_encode_df.values\n",
    "y16_mat = y16_df.values"
   ]
  },
  {
   "cell_type": "code",
   "execution_count": null,
   "metadata": {},
   "outputs": [],
   "source": []
  },
  {
   "cell_type": "code",
   "execution_count": 62,
   "metadata": {},
   "outputs": [
    {
     "name": "stderr",
     "output_type": "stream",
     "text": [
      "/Users/nicolette/anaconda2/envs/py3/lib/python3.5/site-packages/ipykernel_launcher.py:14: DataConversionWarning: A column-vector y was passed when a 1d array was expected. Please change the shape of y to (n_samples,), for example using ravel().\n",
      "  \n"
     ]
    },
    {
     "name": "stdout",
     "output_type": "stream",
     "text": [
      "max_features: 5\n",
      "max_depth: 5\n",
      "training error: 1140.8136094893302\n",
      "cv error: 2041.848810820093\n"
     ]
    },
    {
     "name": "stderr",
     "output_type": "stream",
     "text": [
      "/Users/nicolette/anaconda2/envs/py3/lib/python3.5/site-packages/ipykernel_launcher.py:22: DataConversionWarning: A column-vector y was passed when a 1d array was expected. Please change the shape of y to (n_samples,), for example using ravel().\n"
     ]
    },
    {
     "name": "stdout",
     "output_type": "stream",
     "text": [
      "training error: 1465.5598111731126\n",
      "cv error: 1111.5190658124745\n"
     ]
    },
    {
     "name": "stderr",
     "output_type": "stream",
     "text": [
      "/Users/nicolette/anaconda2/envs/py3/lib/python3.5/site-packages/ipykernel_launcher.py:14: DataConversionWarning: A column-vector y was passed when a 1d array was expected. Please change the shape of y to (n_samples,), for example using ravel().\n",
      "  \n"
     ]
    },
    {
     "name": "stdout",
     "output_type": "stream",
     "text": [
      "max_features: 5\n",
      "max_depth: 10\n",
      "training error: 244.15074062503842\n",
      "cv error: 584.3770092368239\n"
     ]
    },
    {
     "name": "stderr",
     "output_type": "stream",
     "text": [
      "/Users/nicolette/anaconda2/envs/py3/lib/python3.5/site-packages/ipykernel_launcher.py:22: DataConversionWarning: A column-vector y was passed when a 1d array was expected. Please change the shape of y to (n_samples,), for example using ravel().\n"
     ]
    },
    {
     "name": "stdout",
     "output_type": "stream",
     "text": [
      "training error: 300.6550571480292\n",
      "cv error: 327.4991190413524\n"
     ]
    },
    {
     "name": "stderr",
     "output_type": "stream",
     "text": [
      "/Users/nicolette/anaconda2/envs/py3/lib/python3.5/site-packages/ipykernel_launcher.py:14: DataConversionWarning: A column-vector y was passed when a 1d array was expected. Please change the shape of y to (n_samples,), for example using ravel().\n",
      "  \n"
     ]
    },
    {
     "name": "stdout",
     "output_type": "stream",
     "text": [
      "max_features: 5\n",
      "max_depth: 15\n",
      "training error: 79.24245163867062\n",
      "cv error: 400.2382593795409\n"
     ]
    },
    {
     "name": "stderr",
     "output_type": "stream",
     "text": [
      "/Users/nicolette/anaconda2/envs/py3/lib/python3.5/site-packages/ipykernel_launcher.py:22: DataConversionWarning: A column-vector y was passed when a 1d array was expected. Please change the shape of y to (n_samples,), for example using ravel().\n"
     ]
    },
    {
     "name": "stdout",
     "output_type": "stream",
     "text": [
      "training error: 105.40397938448676\n",
      "cv error: 241.26387748858443\n"
     ]
    },
    {
     "name": "stderr",
     "output_type": "stream",
     "text": [
      "/Users/nicolette/anaconda2/envs/py3/lib/python3.5/site-packages/ipykernel_launcher.py:14: DataConversionWarning: A column-vector y was passed when a 1d array was expected. Please change the shape of y to (n_samples,), for example using ravel().\n",
      "  \n"
     ]
    },
    {
     "name": "stdout",
     "output_type": "stream",
     "text": [
      "max_features: 5\n",
      "max_depth: 20\n",
      "training error: 33.45116332452301\n",
      "cv error: 381.2888926938231\n"
     ]
    },
    {
     "name": "stderr",
     "output_type": "stream",
     "text": [
      "/Users/nicolette/anaconda2/envs/py3/lib/python3.5/site-packages/ipykernel_launcher.py:22: DataConversionWarning: A column-vector y was passed when a 1d array was expected. Please change the shape of y to (n_samples,), for example using ravel().\n"
     ]
    },
    {
     "name": "stdout",
     "output_type": "stream",
     "text": [
      "training error: 43.07000150913149\n",
      "cv error: 230.09476312390797\n"
     ]
    },
    {
     "name": "stderr",
     "output_type": "stream",
     "text": [
      "/Users/nicolette/anaconda2/envs/py3/lib/python3.5/site-packages/ipykernel_launcher.py:14: DataConversionWarning: A column-vector y was passed when a 1d array was expected. Please change the shape of y to (n_samples,), for example using ravel().\n",
      "  \n"
     ]
    },
    {
     "name": "stdout",
     "output_type": "stream",
     "text": [
      "max_features: 5\n",
      "max_depth: None\n",
      "training error: 23.98648908683285\n",
      "cv error: 390.1632042505341\n"
     ]
    },
    {
     "name": "stderr",
     "output_type": "stream",
     "text": [
      "/Users/nicolette/anaconda2/envs/py3/lib/python3.5/site-packages/ipykernel_launcher.py:22: DataConversionWarning: A column-vector y was passed when a 1d array was expected. Please change the shape of y to (n_samples,), for example using ravel().\n"
     ]
    },
    {
     "name": "stdout",
     "output_type": "stream",
     "text": [
      "training error: 29.15416104230695\n",
      "cv error: 229.72460290282933\n"
     ]
    },
    {
     "name": "stderr",
     "output_type": "stream",
     "text": [
      "/Users/nicolette/anaconda2/envs/py3/lib/python3.5/site-packages/ipykernel_launcher.py:14: DataConversionWarning: A column-vector y was passed when a 1d array was expected. Please change the shape of y to (n_samples,), for example using ravel().\n",
      "  \n"
     ]
    },
    {
     "name": "stdout",
     "output_type": "stream",
     "text": [
      "max_features: 10\n",
      "max_depth: 5\n",
      "training error: 590.079988618137\n",
      "cv error: 966.8279330715316\n"
     ]
    },
    {
     "name": "stderr",
     "output_type": "stream",
     "text": [
      "/Users/nicolette/anaconda2/envs/py3/lib/python3.5/site-packages/ipykernel_launcher.py:22: DataConversionWarning: A column-vector y was passed when a 1d array was expected. Please change the shape of y to (n_samples,), for example using ravel().\n"
     ]
    },
    {
     "name": "stdout",
     "output_type": "stream",
     "text": [
      "training error: 766.5815354891047\n",
      "cv error: 621.133473328291\n"
     ]
    },
    {
     "name": "stderr",
     "output_type": "stream",
     "text": [
      "/Users/nicolette/anaconda2/envs/py3/lib/python3.5/site-packages/ipykernel_launcher.py:14: DataConversionWarning: A column-vector y was passed when a 1d array was expected. Please change the shape of y to (n_samples,), for example using ravel().\n",
      "  \n"
     ]
    },
    {
     "name": "stdout",
     "output_type": "stream",
     "text": [
      "max_features: 10\n",
      "max_depth: 10\n",
      "training error: 182.3360698559443\n",
      "cv error: 374.1888158399912\n"
     ]
    },
    {
     "name": "stderr",
     "output_type": "stream",
     "text": [
      "/Users/nicolette/anaconda2/envs/py3/lib/python3.5/site-packages/ipykernel_launcher.py:22: DataConversionWarning: A column-vector y was passed when a 1d array was expected. Please change the shape of y to (n_samples,), for example using ravel().\n"
     ]
    },
    {
     "name": "stdout",
     "output_type": "stream",
     "text": [
      "training error: 227.397737366809\n",
      "cv error: 271.8151163531458\n"
     ]
    },
    {
     "name": "stderr",
     "output_type": "stream",
     "text": [
      "/Users/nicolette/anaconda2/envs/py3/lib/python3.5/site-packages/ipykernel_launcher.py:14: DataConversionWarning: A column-vector y was passed when a 1d array was expected. Please change the shape of y to (n_samples,), for example using ravel().\n",
      "  \n"
     ]
    },
    {
     "name": "stdout",
     "output_type": "stream",
     "text": [
      "max_features: 10\n",
      "max_depth: 15\n",
      "training error: 66.8594258125456\n",
      "cv error: 316.16175384929363\n"
     ]
    },
    {
     "name": "stderr",
     "output_type": "stream",
     "text": [
      "/Users/nicolette/anaconda2/envs/py3/lib/python3.5/site-packages/ipykernel_launcher.py:22: DataConversionWarning: A column-vector y was passed when a 1d array was expected. Please change the shape of y to (n_samples,), for example using ravel().\n"
     ]
    },
    {
     "name": "stdout",
     "output_type": "stream",
     "text": [
      "training error: 84.47612847287121\n",
      "cv error: 224.3973035637285\n"
     ]
    },
    {
     "name": "stderr",
     "output_type": "stream",
     "text": [
      "/Users/nicolette/anaconda2/envs/py3/lib/python3.5/site-packages/ipykernel_launcher.py:14: DataConversionWarning: A column-vector y was passed when a 1d array was expected. Please change the shape of y to (n_samples,), for example using ravel().\n",
      "  \n"
     ]
    },
    {
     "name": "stdout",
     "output_type": "stream",
     "text": [
      "max_features: 10\n",
      "max_depth: 20\n",
      "training error: 31.415624783083608\n",
      "cv error: 312.5742742334164\n"
     ]
    },
    {
     "name": "stderr",
     "output_type": "stream",
     "text": [
      "/Users/nicolette/anaconda2/envs/py3/lib/python3.5/site-packages/ipykernel_launcher.py:22: DataConversionWarning: A column-vector y was passed when a 1d array was expected. Please change the shape of y to (n_samples,), for example using ravel().\n"
     ]
    },
    {
     "name": "stdout",
     "output_type": "stream",
     "text": [
      "training error: 39.327296038309484\n",
      "cv error: 220.6077631511355\n"
     ]
    },
    {
     "name": "stderr",
     "output_type": "stream",
     "text": [
      "/Users/nicolette/anaconda2/envs/py3/lib/python3.5/site-packages/ipykernel_launcher.py:14: DataConversionWarning: A column-vector y was passed when a 1d array was expected. Please change the shape of y to (n_samples,), for example using ravel().\n",
      "  \n"
     ]
    },
    {
     "name": "stdout",
     "output_type": "stream",
     "text": [
      "max_features: 10\n",
      "max_depth: None\n",
      "training error: 24.11925306284861\n",
      "cv error: 307.9037250539375\n"
     ]
    },
    {
     "name": "stderr",
     "output_type": "stream",
     "text": [
      "/Users/nicolette/anaconda2/envs/py3/lib/python3.5/site-packages/ipykernel_launcher.py:22: DataConversionWarning: A column-vector y was passed when a 1d array was expected. Please change the shape of y to (n_samples,), for example using ravel().\n"
     ]
    },
    {
     "name": "stdout",
     "output_type": "stream",
     "text": [
      "training error: 29.481230557577653\n",
      "cv error: 221.1956178189928\n"
     ]
    },
    {
     "name": "stderr",
     "output_type": "stream",
     "text": [
      "/Users/nicolette/anaconda2/envs/py3/lib/python3.5/site-packages/ipykernel_launcher.py:14: DataConversionWarning: A column-vector y was passed when a 1d array was expected. Please change the shape of y to (n_samples,), for example using ravel().\n",
      "  \n"
     ]
    },
    {
     "name": "stdout",
     "output_type": "stream",
     "text": [
      "max_features: 15\n",
      "max_depth: 5\n",
      "training error: 509.0151921975996\n",
      "cv error: 792.4288656325757\n"
     ]
    },
    {
     "name": "stderr",
     "output_type": "stream",
     "text": [
      "/Users/nicolette/anaconda2/envs/py3/lib/python3.5/site-packages/ipykernel_launcher.py:22: DataConversionWarning: A column-vector y was passed when a 1d array was expected. Please change the shape of y to (n_samples,), for example using ravel().\n"
     ]
    },
    {
     "name": "stdout",
     "output_type": "stream",
     "text": [
      "training error: 636.3038238145359\n",
      "cv error: 536.2148479125776\n"
     ]
    },
    {
     "name": "stderr",
     "output_type": "stream",
     "text": [
      "/Users/nicolette/anaconda2/envs/py3/lib/python3.5/site-packages/ipykernel_launcher.py:14: DataConversionWarning: A column-vector y was passed when a 1d array was expected. Please change the shape of y to (n_samples,), for example using ravel().\n",
      "  \n"
     ]
    },
    {
     "name": "stdout",
     "output_type": "stream",
     "text": [
      "max_features: 15\n",
      "max_depth: 10\n",
      "training error: 177.14363298704345\n",
      "cv error: 355.40787396343495\n"
     ]
    },
    {
     "name": "stderr",
     "output_type": "stream",
     "text": [
      "/Users/nicolette/anaconda2/envs/py3/lib/python3.5/site-packages/ipykernel_launcher.py:22: DataConversionWarning: A column-vector y was passed when a 1d array was expected. Please change the shape of y to (n_samples,), for example using ravel().\n"
     ]
    },
    {
     "name": "stdout",
     "output_type": "stream",
     "text": [
      "training error: 223.15472816338504\n",
      "cv error: 272.37307477914135\n"
     ]
    },
    {
     "name": "stderr",
     "output_type": "stream",
     "text": [
      "/Users/nicolette/anaconda2/envs/py3/lib/python3.5/site-packages/ipykernel_launcher.py:14: DataConversionWarning: A column-vector y was passed when a 1d array was expected. Please change the shape of y to (n_samples,), for example using ravel().\n",
      "  \n"
     ]
    },
    {
     "name": "stdout",
     "output_type": "stream",
     "text": [
      "max_features: 15\n",
      "max_depth: 15\n",
      "training error: 66.49224932736666\n",
      "cv error: 310.2304634342273\n"
     ]
    },
    {
     "name": "stderr",
     "output_type": "stream",
     "text": [
      "/Users/nicolette/anaconda2/envs/py3/lib/python3.5/site-packages/ipykernel_launcher.py:22: DataConversionWarning: A column-vector y was passed when a 1d array was expected. Please change the shape of y to (n_samples,), for example using ravel().\n"
     ]
    },
    {
     "name": "stdout",
     "output_type": "stream",
     "text": [
      "training error: 85.71886061962296\n",
      "cv error: 232.06521617131378\n"
     ]
    },
    {
     "name": "stderr",
     "output_type": "stream",
     "text": [
      "/Users/nicolette/anaconda2/envs/py3/lib/python3.5/site-packages/ipykernel_launcher.py:14: DataConversionWarning: A column-vector y was passed when a 1d array was expected. Please change the shape of y to (n_samples,), for example using ravel().\n",
      "  \n"
     ]
    },
    {
     "name": "stdout",
     "output_type": "stream",
     "text": [
      "max_features: 15\n",
      "max_depth: 20\n",
      "training error: 33.04675811185677\n",
      "cv error: 305.61426730388496\n"
     ]
    },
    {
     "name": "stderr",
     "output_type": "stream",
     "text": [
      "/Users/nicolette/anaconda2/envs/py3/lib/python3.5/site-packages/ipykernel_launcher.py:22: DataConversionWarning: A column-vector y was passed when a 1d array was expected. Please change the shape of y to (n_samples,), for example using ravel().\n"
     ]
    },
    {
     "name": "stdout",
     "output_type": "stream",
     "text": [
      "training error: 41.390670622913255\n",
      "cv error: 227.82099144611016\n"
     ]
    },
    {
     "name": "stderr",
     "output_type": "stream",
     "text": [
      "/Users/nicolette/anaconda2/envs/py3/lib/python3.5/site-packages/ipykernel_launcher.py:14: DataConversionWarning: A column-vector y was passed when a 1d array was expected. Please change the shape of y to (n_samples,), for example using ravel().\n",
      "  \n"
     ]
    },
    {
     "name": "stdout",
     "output_type": "stream",
     "text": [
      "max_features: 15\n",
      "max_depth: None\n",
      "training error: 25.173465529192185\n",
      "cv error: 308.3851807909645\n"
     ]
    },
    {
     "name": "stderr",
     "output_type": "stream",
     "text": [
      "/Users/nicolette/anaconda2/envs/py3/lib/python3.5/site-packages/ipykernel_launcher.py:22: DataConversionWarning: A column-vector y was passed when a 1d array was expected. Please change the shape of y to (n_samples,), for example using ravel().\n"
     ]
    },
    {
     "name": "stdout",
     "output_type": "stream",
     "text": [
      "training error: 30.66142407591252\n",
      "cv error: 227.62903141821383\n"
     ]
    },
    {
     "name": "stderr",
     "output_type": "stream",
     "text": [
      "/Users/nicolette/anaconda2/envs/py3/lib/python3.5/site-packages/ipykernel_launcher.py:14: DataConversionWarning: A column-vector y was passed when a 1d array was expected. Please change the shape of y to (n_samples,), for example using ravel().\n",
      "  \n"
     ]
    },
    {
     "name": "stdout",
     "output_type": "stream",
     "text": [
      "max_features: 20\n",
      "max_depth: 5\n",
      "training error: 518.266920575251\n",
      "cv error: 769.5314326427664\n"
     ]
    },
    {
     "name": "stderr",
     "output_type": "stream",
     "text": [
      "/Users/nicolette/anaconda2/envs/py3/lib/python3.5/site-packages/ipykernel_launcher.py:22: DataConversionWarning: A column-vector y was passed when a 1d array was expected. Please change the shape of y to (n_samples,), for example using ravel().\n"
     ]
    },
    {
     "name": "stdout",
     "output_type": "stream",
     "text": [
      "training error: 643.0684120759287\n",
      "cv error: 553.7887344549417\n"
     ]
    },
    {
     "name": "stderr",
     "output_type": "stream",
     "text": [
      "/Users/nicolette/anaconda2/envs/py3/lib/python3.5/site-packages/ipykernel_launcher.py:14: DataConversionWarning: A column-vector y was passed when a 1d array was expected. Please change the shape of y to (n_samples,), for example using ravel().\n",
      "  \n"
     ]
    },
    {
     "name": "stdout",
     "output_type": "stream",
     "text": [
      "max_features: 20\n",
      "max_depth: 10\n",
      "training error: 181.91751189426745\n",
      "cv error: 363.42510629425016\n"
     ]
    },
    {
     "name": "stderr",
     "output_type": "stream",
     "text": [
      "/Users/nicolette/anaconda2/envs/py3/lib/python3.5/site-packages/ipykernel_launcher.py:22: DataConversionWarning: A column-vector y was passed when a 1d array was expected. Please change the shape of y to (n_samples,), for example using ravel().\n"
     ]
    },
    {
     "name": "stdout",
     "output_type": "stream",
     "text": [
      "training error: 229.74393387270607\n",
      "cv error: 282.39696511117734\n"
     ]
    },
    {
     "name": "stderr",
     "output_type": "stream",
     "text": [
      "/Users/nicolette/anaconda2/envs/py3/lib/python3.5/site-packages/ipykernel_launcher.py:14: DataConversionWarning: A column-vector y was passed when a 1d array was expected. Please change the shape of y to (n_samples,), for example using ravel().\n",
      "  \n"
     ]
    },
    {
     "name": "stdout",
     "output_type": "stream",
     "text": [
      "max_features: 20\n",
      "max_depth: 15\n",
      "training error: 68.7929476692095\n",
      "cv error: 321.55658607183153\n"
     ]
    },
    {
     "name": "stderr",
     "output_type": "stream",
     "text": [
      "/Users/nicolette/anaconda2/envs/py3/lib/python3.5/site-packages/ipykernel_launcher.py:22: DataConversionWarning: A column-vector y was passed when a 1d array was expected. Please change the shape of y to (n_samples,), for example using ravel().\n"
     ]
    },
    {
     "name": "stdout",
     "output_type": "stream",
     "text": [
      "training error: 87.96751247608957\n",
      "cv error: 240.05867421505332\n"
     ]
    },
    {
     "name": "stderr",
     "output_type": "stream",
     "text": [
      "/Users/nicolette/anaconda2/envs/py3/lib/python3.5/site-packages/ipykernel_launcher.py:14: DataConversionWarning: A column-vector y was passed when a 1d array was expected. Please change the shape of y to (n_samples,), for example using ravel().\n",
      "  \n"
     ]
    },
    {
     "name": "stdout",
     "output_type": "stream",
     "text": [
      "max_features: 20\n",
      "max_depth: 20\n",
      "training error: 34.40698743226309\n",
      "cv error: 318.97060580756596\n"
     ]
    },
    {
     "name": "stderr",
     "output_type": "stream",
     "text": [
      "/Users/nicolette/anaconda2/envs/py3/lib/python3.5/site-packages/ipykernel_launcher.py:22: DataConversionWarning: A column-vector y was passed when a 1d array was expected. Please change the shape of y to (n_samples,), for example using ravel().\n"
     ]
    },
    {
     "name": "stdout",
     "output_type": "stream",
     "text": [
      "training error: 43.785198641197724\n",
      "cv error: 234.39759308894196\n"
     ]
    },
    {
     "name": "stderr",
     "output_type": "stream",
     "text": [
      "/Users/nicolette/anaconda2/envs/py3/lib/python3.5/site-packages/ipykernel_launcher.py:14: DataConversionWarning: A column-vector y was passed when a 1d array was expected. Please change the shape of y to (n_samples,), for example using ravel().\n",
      "  \n"
     ]
    },
    {
     "name": "stdout",
     "output_type": "stream",
     "text": [
      "max_features: 20\n",
      "max_depth: None\n",
      "training error: 26.0002748908559\n",
      "cv error: 317.820494875072\n"
     ]
    },
    {
     "name": "stderr",
     "output_type": "stream",
     "text": [
      "/Users/nicolette/anaconda2/envs/py3/lib/python3.5/site-packages/ipykernel_launcher.py:22: DataConversionWarning: A column-vector y was passed when a 1d array was expected. Please change the shape of y to (n_samples,), for example using ravel().\n"
     ]
    },
    {
     "name": "stdout",
     "output_type": "stream",
     "text": [
      "training error: 31.82728155410632\n",
      "cv error: 234.03862455971472\n"
     ]
    },
    {
     "name": "stderr",
     "output_type": "stream",
     "text": [
      "/Users/nicolette/anaconda2/envs/py3/lib/python3.5/site-packages/ipykernel_launcher.py:14: DataConversionWarning: A column-vector y was passed when a 1d array was expected. Please change the shape of y to (n_samples,), for example using ravel().\n",
      "  \n"
     ]
    },
    {
     "name": "stdout",
     "output_type": "stream",
     "text": [
      "max_features: None\n",
      "max_depth: 5\n",
      "training error: 572.8348327801996\n",
      "cv error: 839.1387494843638\n"
     ]
    },
    {
     "name": "stderr",
     "output_type": "stream",
     "text": [
      "/Users/nicolette/anaconda2/envs/py3/lib/python3.5/site-packages/ipykernel_launcher.py:22: DataConversionWarning: A column-vector y was passed when a 1d array was expected. Please change the shape of y to (n_samples,), for example using ravel().\n"
     ]
    },
    {
     "name": "stdout",
     "output_type": "stream",
     "text": [
      "training error: 707.1192906490547\n",
      "cv error: 615.5594579422186\n"
     ]
    },
    {
     "name": "stderr",
     "output_type": "stream",
     "text": [
      "/Users/nicolette/anaconda2/envs/py3/lib/python3.5/site-packages/ipykernel_launcher.py:14: DataConversionWarning: A column-vector y was passed when a 1d array was expected. Please change the shape of y to (n_samples,), for example using ravel().\n",
      "  \n"
     ]
    },
    {
     "name": "stdout",
     "output_type": "stream",
     "text": [
      "max_features: None\n",
      "max_depth: 10\n",
      "training error: 187.00831374744246\n",
      "cv error: 377.6738996372788\n"
     ]
    },
    {
     "name": "stderr",
     "output_type": "stream",
     "text": [
      "/Users/nicolette/anaconda2/envs/py3/lib/python3.5/site-packages/ipykernel_launcher.py:22: DataConversionWarning: A column-vector y was passed when a 1d array was expected. Please change the shape of y to (n_samples,), for example using ravel().\n"
     ]
    },
    {
     "name": "stdout",
     "output_type": "stream",
     "text": [
      "training error: 235.87245036820713\n",
      "cv error: 291.1718433668808\n"
     ]
    },
    {
     "name": "stderr",
     "output_type": "stream",
     "text": [
      "/Users/nicolette/anaconda2/envs/py3/lib/python3.5/site-packages/ipykernel_launcher.py:14: DataConversionWarning: A column-vector y was passed when a 1d array was expected. Please change the shape of y to (n_samples,), for example using ravel().\n",
      "  \n"
     ]
    },
    {
     "name": "stdout",
     "output_type": "stream",
     "text": [
      "max_features: None\n",
      "max_depth: 15\n",
      "training error: 70.47869897790824\n",
      "cv error: 331.50562992030564\n"
     ]
    },
    {
     "name": "stderr",
     "output_type": "stream",
     "text": [
      "/Users/nicolette/anaconda2/envs/py3/lib/python3.5/site-packages/ipykernel_launcher.py:22: DataConversionWarning: A column-vector y was passed when a 1d array was expected. Please change the shape of y to (n_samples,), for example using ravel().\n"
     ]
    },
    {
     "name": "stdout",
     "output_type": "stream",
     "text": [
      "training error: 90.14072850690681\n",
      "cv error: 245.52003550164255\n"
     ]
    },
    {
     "name": "stderr",
     "output_type": "stream",
     "text": [
      "/Users/nicolette/anaconda2/envs/py3/lib/python3.5/site-packages/ipykernel_launcher.py:14: DataConversionWarning: A column-vector y was passed when a 1d array was expected. Please change the shape of y to (n_samples,), for example using ravel().\n",
      "  \n"
     ]
    },
    {
     "name": "stdout",
     "output_type": "stream",
     "text": [
      "max_features: None\n",
      "max_depth: 20\n",
      "training error: 35.43686784842705\n",
      "cv error: 327.16854283977716\n"
     ]
    },
    {
     "name": "stderr",
     "output_type": "stream",
     "text": [
      "/Users/nicolette/anaconda2/envs/py3/lib/python3.5/site-packages/ipykernel_launcher.py:22: DataConversionWarning: A column-vector y was passed when a 1d array was expected. Please change the shape of y to (n_samples,), for example using ravel().\n"
     ]
    },
    {
     "name": "stdout",
     "output_type": "stream",
     "text": [
      "training error: 44.89735132147444\n",
      "cv error: 240.59260658773437\n"
     ]
    },
    {
     "name": "stderr",
     "output_type": "stream",
     "text": [
      "/Users/nicolette/anaconda2/envs/py3/lib/python3.5/site-packages/ipykernel_launcher.py:14: DataConversionWarning: A column-vector y was passed when a 1d array was expected. Please change the shape of y to (n_samples,), for example using ravel().\n",
      "  \n"
     ]
    },
    {
     "name": "stdout",
     "output_type": "stream",
     "text": [
      "max_features: None\n",
      "max_depth: None\n",
      "training error: 26.663620721141523\n",
      "cv error: 327.62092874569356\n"
     ]
    },
    {
     "name": "stderr",
     "output_type": "stream",
     "text": [
      "/Users/nicolette/anaconda2/envs/py3/lib/python3.5/site-packages/ipykernel_launcher.py:22: DataConversionWarning: A column-vector y was passed when a 1d array was expected. Please change the shape of y to (n_samples,), for example using ravel().\n"
     ]
    },
    {
     "name": "stdout",
     "output_type": "stream",
     "text": [
      "training error: 32.777822818256205\n",
      "cv error: 240.7369829013548\n"
     ]
    }
   ],
   "source": [
    "from sklearn.model_selection import learning_curve, GridSearchCV, RandomizedSearchCV\n",
    "from time import time\n",
    "from operator import itemgetter\n",
    "from scipy.stats import randint as sp_randint\n",
    "\n",
    "estimators = 100\n",
    "cv_errs = []\n",
    "train_errs = []\n",
    "\n",
    "for features in [5,10,15,20,None]:\n",
    "    for depths in [5,10,15,20,None]:\n",
    "        regr = RandomForestRegressor(max_features = features, max_depth = depths, random_state=0, n_estimators= estimators)\n",
    "        # Cross Validation\n",
    "        regr.fit(X13_mat, y13_mat)\n",
    "        regr_pred13 = regr.predict(X13_mat)\n",
    "        regr_pred14 = regr.predict(X14_mat)\n",
    "        print(\"max_features:\", features)\n",
    "        print(\"max_depth:\",depths)\n",
    "        print(\"training error:\", mean_squared_error(y_true = y13_mat, y_pred = regr_pred13))\n",
    "        print(\"cv error:\", mean_squared_error(y_true = y14_mat, y_pred = regr_pred14))\n",
    "        \n",
    "        regr.fit(X14_mat, y14_mat)\n",
    "        regr_pred14 = regr.predict(X14_mat)\n",
    "        regr_pred15 = regr.predict(X15_mat)\n",
    "        print(\"training error:\", mean_squared_error(y_true = y14_mat, y_pred = regr_pred14))\n",
    "        print(\"cv error:\", mean_squared_error(y_true = y15_mat, y_pred = regr_pred15))\n"
   ]
  },
  {
   "cell_type": "code",
   "execution_count": 68,
   "metadata": {},
   "outputs": [
    {
     "name": "stderr",
     "output_type": "stream",
     "text": [
      "/Users/nicolette/anaconda2/envs/py3/lib/python3.5/site-packages/ipykernel_launcher.py:8: DataConversionWarning: A column-vector y was passed when a 1d array was expected. Please change the shape of y to (n_samples,), for example using ravel().\n",
      "  \n"
     ]
    },
    {
     "name": "stdout",
     "output_type": "stream",
     "text": [
      "186.71154167769063\n",
      "33.68267500034335\n"
     ]
    }
   ],
   "source": [
    "# After Cross-Validation, Choose the best parameter\n",
    "estimators = 300\n",
    "features = 10\n",
    "depths = 20\n",
    "regr10 = RandomForestRegressor(max_features = features, random_state=0, max_depth = depths, n_estimators= estimators)\n",
    "# clf = RandomForestRegressor(n_estimators= 100)\n",
    "\n",
    "regr10.fit(X15_mat, y15_mat)\n",
    "regr_pred16 = regr10.predict(X16_mat)\n",
    "regr_pred15 = regr10.predict(X15_mat)\n",
    "print(mean_squared_error(y_true = y16_mat, y_pred = regr_pred16))\n",
    "print(mean_squared_error(y_true = y15_mat, y_pred = regr_pred15))"
   ]
  },
  {
   "cell_type": "code",
   "execution_count": 69,
   "metadata": {},
   "outputs": [
    {
     "name": "stderr",
     "output_type": "stream",
     "text": [
      "/Users/nicolette/anaconda2/envs/py3/lib/python3.5/site-packages/ipykernel_launcher.py:8: DataConversionWarning: A column-vector y was passed when a 1d array was expected. Please change the shape of y to (n_samples,), for example using ravel().\n",
      "  \n"
     ]
    },
    {
     "name": "stdout",
     "output_type": "stream",
     "text": [
      "188.52967626930095\n",
      "34.924730941620616\n"
     ]
    }
   ],
   "source": [
    "# After Cross-Validation, Choose the best parameter\n",
    "estimators = 300\n",
    "features = 15\n",
    "depths = 20\n",
    "regr15 = RandomForestRegressor(max_features = features, random_state=0, max_depth = depths, n_estimators= estimators)\n",
    "# clf = RandomForestRegressor(n_estimators= 100)\n",
    "\n",
    "regr15.fit(X15_mat, y15_mat)\n",
    "regr_pred16 = regr15.predict(X16_mat)\n",
    "regr_pred15 = regr15.predict(X15_mat)\n",
    "print(mean_squared_error(y_true = y16_mat, y_pred = regr_pred16))\n",
    "print(mean_squared_error(y_true = y15_mat, y_pred = regr_pred15))"
   ]
  },
  {
   "cell_type": "code",
   "execution_count": 70,
   "metadata": {},
   "outputs": [
    {
     "data": {
      "text/plain": [
       "0.986693200332416"
      ]
     },
     "execution_count": 70,
     "metadata": {},
     "output_type": "execute_result"
    }
   ],
   "source": [
    "regr10.score(X16_mat, y16_mat)"
   ]
  },
  {
   "cell_type": "code",
   "execution_count": null,
   "metadata": {},
   "outputs": [],
   "source": [
    "features_name = np.array(X16_encode_df.columns.values)\n",
    "importances = regr10.feature_importances_\n",
    "std = np.std([regr10.feature_importances_ for tree in regr10.estimators_],\n",
    "             axis=0)\n",
    "indices = np.argsort(importances)[::-1]\n",
    "# Print the feature ranking\n",
    "print(\"Feature ranking:\")\n",
    "\n",
    "for f in range(X15_mat.shape[1]):\n",
    "    print(\"%d. feature %d (%f)\" % (f + 1, indices[f], importances[indices[f]]))"
   ]
  },
  {
   "cell_type": "code",
   "execution_count": 74,
   "metadata": {},
   "outputs": [
    {
     "data": {
      "image/png": "[encoded data removed]",
      "text/plain": [
       "<Figure size 432x288 with 1 Axes>"
      ]
     },
     "metadata": {
      "needs_background": "light"
     },
     "output_type": "display_data"
    }
   ],
   "source": [
    "# Plot the feature importances \n",
    "plt.figure()\n",
    "plt.title(\"Feature importances\",size=30)\n",
    "plt.bar(range(X15_mat.shape[1]), importances[indices],\n",
    "      yerr=std[indices], color='r' , align=\"center\")\n",
    "plt.xticks(range(X15_mat.shape[1]), features_name[indices],rotation=90,fontsize = 10)\n",
    "plt.xlim([-1, X15_mat.shape[1]])\n",
    "plt.show()"
   ]
  },
  {
   "cell_type": "code",
   "execution_count": null,
   "metadata": {},
   "outputs": [],
   "source": []
  }
 ],
 "metadata": {
  "kernelspec": {
   "display_name": "Python 3",
   "language": "python",
   "name": "python3"
  },
  "language_info": {
   "codemirror_mode": {
    "name": "ipython",
    "version": 3
   },
   "file_extension": ".py",
   "mimetype": "text/x-python",
   "name": "python",
   "nbconvert_exporter": "python",
   "pygments_lexer": "ipython3",
   "version": "3.5.5"
  }
 },
 "nbformat": 4,
 "nbformat_minor": 2
}
