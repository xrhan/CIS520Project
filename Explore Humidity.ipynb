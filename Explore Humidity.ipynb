{
 "cells": [
  {
   "cell_type": "code",
   "execution_count": 1,
   "metadata": {},
   "outputs": [],
   "source": [
    "import csv\n",
    "import pandas as pd"
   ]
  },
  {
   "cell_type": "code",
   "execution_count": 2,
   "metadata": {},
   "outputs": [],
   "source": [
    "humidity_df = pd.read_csv(\"humidity.csv\")"
   ]
  },
  {
   "cell_type": "code",
   "execution_count": 9,
   "metadata": {},
   "outputs": [
    {
     "data": {
      "text/plain": [
       "0.020186180804460375"
      ]
     },
     "execution_count": 9,
     "metadata": {},
     "output_type": "execute_result"
    }
   ],
   "source": [
    "sum(humidity_df[\"Chicago\"].isna())/len(humidity_df[\"Chicago\"])"
   ]
  },
  {
   "cell_type": "code",
   "execution_count": 10,
   "metadata": {},
   "outputs": [
    {
     "data": {
      "text/plain": [
       "0         NaN\n",
       "1        64.0\n",
       "2        69.0\n",
       "3         NaN\n",
       "4        68.0\n",
       "5        68.0\n",
       "6         NaN\n",
       "7        68.0\n",
       "8         NaN\n",
       "9         NaN\n",
       "10       69.0\n",
       "11       64.0\n",
       "12       55.0\n",
       "13       59.0\n",
       "14       59.0\n",
       "15       64.0\n",
       "16       64.0\n",
       "17       64.0\n",
       "18       59.0\n",
       "19       59.0\n",
       "20        NaN\n",
       "21        NaN\n",
       "22       68.0\n",
       "23       68.0\n",
       "24       68.0\n",
       "25       68.0\n",
       "26       68.0\n",
       "27       68.0\n",
       "28       62.0\n",
       "29       62.0\n",
       "         ... \n",
       "40146    39.0\n",
       "40147    42.0\n",
       "40148    44.0\n",
       "40149    39.0\n",
       "40150    42.0\n",
       "40151    39.0\n",
       "40152    51.0\n",
       "40153    57.0\n",
       "40154    73.0\n",
       "40155    93.0\n",
       "40156    88.0\n",
       "40157    93.0\n",
       "40158    93.0\n",
       "40159    88.0\n",
       "40160    93.0\n",
       "40161    93.0\n",
       "40162    93.0\n",
       "40163    88.0\n",
       "40164    73.0\n",
       "40165    73.0\n",
       "40166    57.0\n",
       "40167    57.0\n",
       "40168    48.0\n",
       "40169    54.0\n",
       "40170    54.0\n",
       "40171    48.0\n",
       "40172    45.0\n",
       "40173    39.0\n",
       "40174    48.0\n",
       "40175    61.0\n",
       "Name: Chicago, Length: 40176, dtype: float64"
      ]
     },
     "execution_count": 10,
     "metadata": {},
     "output_type": "execute_result"
    }
   ],
   "source": [
    "humidity_df[\"Chicago\"]"
   ]
  },
  {
   "cell_type": "code",
   "execution_count": 11,
   "metadata": {},
   "outputs": [],
   "source": [
    "inter_df = humidity_df.copy()"
   ]
  },
  {
   "cell_type": "code",
   "execution_count": 12,
   "metadata": {},
   "outputs": [
    {
     "data": {
      "text/plain": [
       "0              NaN\n",
       "1        64.000000\n",
       "2        69.000000\n",
       "3        68.500000\n",
       "4        68.000000\n",
       "5        68.000000\n",
       "6        68.000000\n",
       "7        68.000000\n",
       "8        68.333333\n",
       "9        68.666667\n",
       "10       69.000000\n",
       "11       64.000000\n",
       "12       55.000000\n",
       "13       59.000000\n",
       "14       59.000000\n",
       "15       64.000000\n",
       "16       64.000000\n",
       "17       64.000000\n",
       "18       59.000000\n",
       "19       59.000000\n",
       "20       62.000000\n",
       "21       65.000000\n",
       "22       68.000000\n",
       "23       68.000000\n",
       "24       68.000000\n",
       "25       68.000000\n",
       "26       68.000000\n",
       "27       68.000000\n",
       "28       62.000000\n",
       "29       62.000000\n",
       "           ...    \n",
       "40146    39.000000\n",
       "40147    42.000000\n",
       "40148    44.000000\n",
       "40149    39.000000\n",
       "40150    42.000000\n",
       "40151    39.000000\n",
       "40152    51.000000\n",
       "40153    57.000000\n",
       "40154    73.000000\n",
       "40155    93.000000\n",
       "40156    88.000000\n",
       "40157    93.000000\n",
       "40158    93.000000\n",
       "40159    88.000000\n",
       "40160    93.000000\n",
       "40161    93.000000\n",
       "40162    93.000000\n",
       "40163    88.000000\n",
       "40164    73.000000\n",
       "40165    73.000000\n",
       "40166    57.000000\n",
       "40167    57.000000\n",
       "40168    48.000000\n",
       "40169    54.000000\n",
       "40170    54.000000\n",
       "40171    48.000000\n",
       "40172    45.000000\n",
       "40173    39.000000\n",
       "40174    48.000000\n",
       "40175    61.000000\n",
       "Name: Chicago, Length: 40176, dtype: float64"
      ]
     },
     "execution_count": 12,
     "metadata": {},
     "output_type": "execute_result"
    }
   ],
   "source": [
    "inter_df[\"Chicago\"].interpolate(method=\"linear\")"
   ]
  },
  {
   "cell_type": "code",
   "execution_count": null,
   "metadata": {},
   "outputs": [],
   "source": []
  }
 ],
 "metadata": {
  "kernelspec": {
   "display_name": "chicagotaxi",
   "language": "python",
   "name": "chicagotaxi"
  },
  "language_info": {
   "codemirror_mode": {
    "name": "ipython",
    "version": 3
   },
   "file_extension": ".py",
   "mimetype": "text/x-python",
   "name": "python",
   "nbconvert_exporter": "python",
   "pygments_lexer": "ipython3",
   "version": "3.6.0"
  }
 },
 "nbformat": 4,
 "nbformat_minor": 2
}
