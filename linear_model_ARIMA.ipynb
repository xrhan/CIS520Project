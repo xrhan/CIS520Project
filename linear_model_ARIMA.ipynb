{
 "cells": [
  {
   "cell_type": "code",
   "execution_count": 70,
   "metadata": {},
   "outputs": [],
   "source": [
    "import csv\n",
    "import pandas as pd\n",
    "import numpy as np\n",
    "#from sklearn import\n",
    "from sklearn.linear_model import LinearRegression\n",
    "from sklearn.preprocessing import OneHotEncoder\n",
    "from sklearn.metrics import mean_squared_error\n",
    "import matplotlib.pyplot as plt\n",
    "import statsmodels.api as sm\n",
    "from scipy import stats\n",
    "%matplotlib inline"
   ]
  },
  {
   "cell_type": "markdown",
   "metadata": {},
   "source": [
    "## Years to Load"
   ]
  },
  {
   "cell_type": "code",
   "execution_count": 35,
   "metadata": {},
   "outputs": [],
   "source": [
    "years = [15, 16]"
   ]
  },
  {
   "cell_type": "code",
   "execution_count": 76,
   "metadata": {},
   "outputs": [],
   "source": [
    "taxi_df = {}\n",
    "\n",
    "for i in years:\n",
    "    taxi_df[i] = pd.read_csv(\"../dataset_4_02_modified/20\" + str(i) \\\n",
    "                            + \"lag.csv\", sep = \",\")\n",
    "# \"2016\" and before\n",
    "# taxi_df[15] = pd.concat([taxi_df[15], taxi_df[16]], axis = 0)\\\n",
    "#               .reset_index().drop(columns = ['index'])"
   ]
  },
  {
   "cell_type": "code",
   "execution_count": 77,
   "metadata": {},
   "outputs": [],
   "source": [
    "y_df = {}\n",
    "X_raw_df = {}\n",
    "for i in years:\n",
    "    y_df[i] =  pd.DataFrame(taxi_df[i]['Count'])\n",
    "    X_raw_df[i] = taxi_df[i].drop(columns = ['Pickup Community Area', \\\n",
    "                                             'Count', 'Trip Start Timestamp'])"
   ]
  },
  {
   "cell_type": "code",
   "execution_count": 78,
   "metadata": {},
   "outputs": [],
   "source": [
    "weekdays = ['0','1','2','3','4','5','6']\n",
    "enc = OneHotEncoder(categories=[weekdays])\n",
    "\n",
    "encoded_df = {}\n",
    "for i in years:\n",
    "    enc.fit(X_raw_df[i].weekday.values.reshape(-1, 1))\n",
    "    encoded_df[i] = pd.DataFrame(enc.transform(X_raw_df[i].weekday.values.reshape(-1, 1))\\\n",
    "                                 .toarray().astype(int))\\\n",
    "                                .rename(columns = {0: 'Monday', 1:'Tuesday', 2:'Wedneseday',\\\n",
    "                                3:'Thursday', 4:'Friday', 5:'Saturday',\\\n",
    "                                6:'Sunday'})"
   ]
  },
  {
   "cell_type": "code",
   "execution_count": 79,
   "metadata": {},
   "outputs": [],
   "source": [
    "X_encode_df = {}\n",
    "for i in years:\n",
    "    X_encode_df[i] = pd.concat([X_raw_df[i].drop(columns=['weekday']), encoded_df[i]], axis=1) "
   ]
  },
  {
   "cell_type": "code",
   "execution_count": 80,
   "metadata": {},
   "outputs": [],
   "source": [
    "X_mat = {}\n",
    "y_mat = {}\n",
    "for i in years:\n",
    "    X_mat[i] = X_encode_df[i].values\n",
    "    y_mat[i] = y_df[i].values"
   ]
  },
  {
   "cell_type": "code",
   "execution_count": 81,
   "metadata": {},
   "outputs": [],
   "source": [
    "reg = LinearRegression().fit(X_mat[15], y_mat[15])"
   ]
  },
  {
   "cell_type": "code",
   "execution_count": 82,
   "metadata": {},
   "outputs": [
    {
     "data": {
      "text/plain": [
       "0.9716155329444153"
      ]
     },
     "execution_count": 82,
     "metadata": {},
     "output_type": "execute_result"
    }
   ],
   "source": [
    "reg.score(X_mat[16], y_mat[16])"
   ]
  },
  {
   "cell_type": "code",
   "execution_count": 83,
   "metadata": {},
   "outputs": [
    {
     "name": "stdout",
     "output_type": "stream",
     "text": [
      "                            OLS Regression Results                            \n",
      "==============================================================================\n",
      "Dep. Variable:                      y   R-squared:                       0.974\n",
      "Model:                            OLS   Adj. R-squared:                  0.974\n",
      "Method:                 Least Squares   F-statistic:                 1.238e+06\n",
      "Date:                Sun, 14 Apr 2019   Prob (F-statistic):               0.00\n",
      "Time:                        17:35:26   Log-Likelihood:            -3.1053e+06\n",
      "No. Observations:              672210   AIC:                         6.211e+06\n",
      "Df Residuals:                  672189   BIC:                         6.211e+06\n",
      "Df Model:                          20                                         \n",
      "Covariance Type:            nonrobust                                         \n",
      "==============================================================================\n",
      "                 coef    std err          t      P>|t|      [0.025      0.975]\n",
      "------------------------------------------------------------------------------\n",
      "const          0.2054      0.038      5.459      0.000       0.132       0.279\n",
      "x1            -0.1366      0.089     -1.542      0.123      -0.310       0.037\n",
      "x2             0.1577      0.074      2.120      0.034       0.012       0.304\n",
      "x3             0.1505      0.083      1.811      0.070      -0.012       0.313\n",
      "x4             1.2452      0.080     15.567      0.000       1.088       1.402\n",
      "x5             1.0642      0.069     15.529      0.000       0.930       1.198\n",
      "x6            -2.1539      0.045    -47.863      0.000      -2.242      -2.066\n",
      "x7             1.2400      0.040     31.212      0.000       1.162       1.318\n",
      "x8            -1.2919      0.056    -23.149      0.000      -1.401      -1.183\n",
      "x9             0.1168      0.070      1.671      0.095      -0.020       0.254\n",
      "x10           -0.0534      0.033     -1.619      0.105      -0.118       0.011\n",
      "x11           -0.1460      0.038     -3.861      0.000      -0.220      -0.072\n",
      "x12            1.6226      0.001   1343.964      0.000       1.620       1.625\n",
      "x13           -0.7945      0.002   -377.416      0.000      -0.799      -0.790\n",
      "x14            0.1426      0.001    118.291      0.000       0.140       0.145\n",
      "x15           -0.1910      0.074     -2.593      0.010      -0.335      -0.047\n",
      "x16            0.0647      0.074      0.879      0.379      -0.080       0.209\n",
      "x17            0.1114      0.074      1.515      0.130      -0.033       0.256\n",
      "x18            0.1815      0.074      2.446      0.014       0.036       0.327\n",
      "x19            0.6229      0.074      8.455      0.000       0.478       0.767\n",
      "x20            0.2924      0.074      3.972      0.000       0.148       0.437\n",
      "x21           -0.8764      0.074    -11.896      0.000      -1.021      -0.732\n",
      "==============================================================================\n",
      "Omnibus:                   298074.514   Durbin-Watson:                   1.804\n",
      "Prob(Omnibus):                  0.000   Jarque-Bera (JB):       1146091883.956\n",
      "Skew:                           0.131   Prob(JB):                         0.00\n",
      "Kurtosis:                     205.284   Cond. No.                     6.77e+17\n",
      "==============================================================================\n",
      "\n",
      "Warnings:\n",
      "[1] Standard Errors assume that the covariance matrix of the errors is correctly specified.\n",
      "[2] The smallest eigenvalue is 1.03e-25. This might indicate that there are\n",
      "strong multicollinearity problems or that the design matrix is singular.\n"
     ]
    }
   ],
   "source": [
    "X2 = sm.add_constant(X_mat[15])\n",
    "est = sm.OLS(y_mat[15], X2)\n",
    "est2 = est.fit()\n",
    "print(est2.summary())"
   ]
  },
  {
   "cell_type": "code",
   "execution_count": 84,
   "metadata": {},
   "outputs": [
    {
     "name": "stdout",
     "output_type": "stream",
     "text": [
      "1 dayofyear -0.14\n",
      "2 dayofyear_sin 0.16\n",
      "3 dayofyear_cos 0.15\n",
      "4 hour 1.25\n",
      "5 hour_sin 1.06\n",
      "6 hour_cos -2.15\n",
      "7 lat 1.24\n",
      "8 lon -1.29\n",
      "9 temperature 0.12\n",
      "10 wind_speed -0.05\n",
      "11 humidity -0.15\n",
      "12 lag1 1.62\n",
      "13 lag2 -0.79\n",
      "14 lag3 0.14\n",
      "15 Monday -0.22\n",
      "16 Tuesday 0.04\n",
      "17 Wedneseday 0.08\n",
      "18 Thursday 0.15\n",
      "19 Friday 0.59\n",
      "20 Saturday 0.26\n",
      "21 Sunday -0.91\n"
     ]
    }
   ],
   "source": [
    "for i in range(0, len(reg.coef_[0])):\n",
    "    print(\"{2} {0} {1}\".format(X_encode_df[16].columns.values[i], round(reg.coef_[0][i], 2),i+1))"
   ]
  },
  {
   "cell_type": "markdown",
   "metadata": {},
   "source": [
    "# Add 2dg terms for lon and lat"
   ]
  },
  {
   "cell_type": "code",
   "execution_count": 85,
   "metadata": {},
   "outputs": [],
   "source": [
    "for i in years:\n",
    "    X_encode_df[i]['lat_sq'] = round(X_encode_df[i].lat.pow(2),4)\n",
    "    X_encode_df[i]['lon_sq'] = round(X_encode_df[i].lon.pow(2),4)\n",
    "    X_encode_df[i]['latXlon'] = round(X_encode_df[i].lat*X_encode_df[i].lon, 4)"
   ]
  },
  {
   "cell_type": "code",
   "execution_count": 86,
   "metadata": {},
   "outputs": [],
   "source": [
    "X_mat = {}\n",
    "y_mat = {}\n",
    "for i in years:\n",
    "    X_mat[i] = X_encode_df[i].values\n",
    "    y_mat[i] = y_df[i].values"
   ]
  },
  {
   "cell_type": "code",
   "execution_count": 87,
   "metadata": {},
   "outputs": [],
   "source": [
    "reg2 = LinearRegression().fit(X_mat[15], y_mat[15])"
   ]
  },
  {
   "cell_type": "markdown",
   "metadata": {},
   "source": [
    "## R^2"
   ]
  },
  {
   "cell_type": "code",
   "execution_count": 88,
   "metadata": {},
   "outputs": [
    {
     "data": {
      "text/plain": [
       "0.9716738330784118"
      ]
     },
     "execution_count": 88,
     "metadata": {},
     "output_type": "execute_result"
    }
   ],
   "source": [
    "reg2.score(X_mat[16], y_mat[16])"
   ]
  },
  {
   "cell_type": "code",
   "execution_count": 89,
   "metadata": {},
   "outputs": [
    {
     "name": "stdout",
     "output_type": "stream",
     "text": [
      "                            OLS Regression Results                            \n",
      "==============================================================================\n",
      "Dep. Variable:                      y   R-squared:                       0.974\n",
      "Model:                            OLS   Adj. R-squared:                  0.974\n",
      "Method:                 Least Squares   F-statistic:                 1.079e+06\n",
      "Date:                Sun, 14 Apr 2019   Prob (F-statistic):               0.00\n",
      "Time:                        17:35:59   Log-Likelihood:            -3.1044e+06\n",
      "No. Observations:              672210   AIC:                         6.209e+06\n",
      "Df Residuals:                  672186   BIC:                         6.209e+06\n",
      "Df Model:                          23                                         \n",
      "Covariance Type:            nonrobust                                         \n",
      "==============================================================================\n",
      "                 coef    std err          t      P>|t|      [0.025      0.975]\n",
      "------------------------------------------------------------------------------\n",
      "const          0.2620      0.047      5.578      0.000       0.170       0.354\n",
      "x1            -0.1402      0.088     -1.584      0.113      -0.314       0.033\n",
      "x2             0.1596      0.074      2.148      0.032       0.014       0.305\n",
      "x3             0.1402      0.083      1.689      0.091      -0.022       0.303\n",
      "x4             1.2492      0.080     15.637      0.000       1.093       1.406\n",
      "x5             1.0256      0.068     14.984      0.000       0.891       1.160\n",
      "x6            -2.1417      0.045    -47.650      0.000      -2.230      -2.054\n",
      "x7             0.4190      0.065      6.411      0.000       0.291       0.547\n",
      "x8             1.0135      0.084     12.012      0.000       0.848       1.179\n",
      "x9             0.1107      0.070      1.586      0.113      -0.026       0.248\n",
      "x10           -0.0533      0.033     -1.620      0.105      -0.118       0.011\n",
      "x11           -0.1465      0.038     -3.878      0.000      -0.220      -0.072\n",
      "x12            1.6197      0.001   1340.978      0.000       1.617       1.622\n",
      "x13           -0.7912      0.002   -376.088      0.000      -0.795      -0.787\n",
      "x14            0.1397      0.001    115.830      0.000       0.137       0.142\n",
      "x15           -0.1937      0.074     -2.630      0.009      -0.338      -0.049\n",
      "x16            0.0666      0.074      0.905      0.365      -0.078       0.211\n",
      "x17            0.1171      0.074      1.593      0.111      -0.027       0.261\n",
      "x18            0.1920      0.074      2.588      0.010       0.047       0.337\n",
      "x19            0.6417      0.074      8.709      0.000       0.497       0.786\n",
      "x20            0.3087      0.074      4.193      0.000       0.164       0.453\n",
      "x21           -0.8705      0.074    -11.813      0.000      -1.015      -0.726\n",
      "x22            0.2156      0.043      4.960      0.000       0.130       0.301\n",
      "x23            3.4862      0.090     38.794      0.000       3.310       3.662\n",
      "x24           -3.7970      0.106    -35.975      0.000      -4.004      -3.590\n",
      "==============================================================================\n",
      "Omnibus:                   298990.014   Durbin-Watson:                   1.801\n",
      "Prob(Omnibus):                  0.000   Jarque-Bera (JB):       1141132408.322\n",
      "Skew:                           0.162   Prob(JB):                         0.00\n",
      "Kurtosis:                     204.846   Cond. No.                     6.13e+17\n",
      "==============================================================================\n",
      "\n",
      "Warnings:\n",
      "[1] Standard Errors assume that the covariance matrix of the errors is correctly specified.\n",
      "[2] The smallest eigenvalue is 1.26e-25. This might indicate that there are\n",
      "strong multicollinearity problems or that the design matrix is singular.\n"
     ]
    }
   ],
   "source": [
    "X2 = sm.add_constant(X_mat[15])\n",
    "est = sm.OLS(y_mat[15], X2)\n",
    "est2 = est.fit()\n",
    "print(est2.summary())"
   ]
  },
  {
   "cell_type": "code",
   "execution_count": 91,
   "metadata": {},
   "outputs": [
    {
     "name": "stdout",
     "output_type": "stream",
     "text": [
      "1 dayofyear -0.14\n",
      "2 dayofyear_sin 0.16\n",
      "3 dayofyear_cos 0.14\n",
      "4 hour 1.25\n",
      "5 hour_sin 1.03\n",
      "6 hour_cos -2.14\n",
      "7 lat 0.42\n",
      "8 lon 1.01\n",
      "9 temperature 0.11\n",
      "10 wind_speed -0.05\n",
      "11 humidity -0.15\n",
      "12 lag1 1.62\n",
      "13 lag2 -0.79\n",
      "14 lag3 0.14\n",
      "15 Monday -0.23\n",
      "16 Tuesday 0.03\n",
      "17 Wedneseday 0.08\n",
      "18 Thursday 0.15\n",
      "19 Friday 0.6\n",
      "20 Saturday 0.27\n",
      "21 Sunday -0.91\n",
      "22 lat_sq 0.22\n",
      "23 lon_sq 3.49\n",
      "24 latXlon -3.8\n"
     ]
    }
   ],
   "source": [
    "for i in range(0, len(reg2.coef_[0])):\n",
    "    print(\"{2} {0} {1}\".format(X_encode_df[16].columns.values[i], round(reg2.coef_[0][i], 2),i+1))"
   ]
  },
  {
   "cell_type": "markdown",
   "metadata": {},
   "source": [
    "## Mean Square Error"
   ]
  },
  {
   "cell_type": "code",
   "execution_count": 52,
   "metadata": {},
   "outputs": [
    {
     "data": {
      "text/plain": [
       "397.4526127896189"
      ]
     },
     "execution_count": 52,
     "metadata": {},
     "output_type": "execute_result"
    }
   ],
   "source": [
    "reg2_pred16 = reg2.predict(X_mat[16])\n",
    "mean_squared_error(y_true = y_mat[16], y_pred = reg2_pred16)"
   ]
  },
  {
   "cell_type": "markdown",
   "metadata": {},
   "source": [
    "## Analyze error distribution"
   ]
  },
  {
   "cell_type": "code",
   "execution_count": 34,
   "metadata": {},
   "outputs": [
    {
     "data": {
      "text/plain": [
       "(array([6.00000e+00, 3.70000e+01, 2.82000e+02, 1.55500e+03, 3.76326e+05,\n",
       "        1.14000e+04, 1.39600e+03, 2.80000e+02, 2.70000e+01, 5.00000e+00]),\n",
       " array([-382.61772539, -303.81389611, -225.01006684, -146.20623756,\n",
       "         -67.40240828,   11.40142099,   90.20525027,  169.00907954,\n",
       "         247.81290882,  326.61673809,  405.42056737]),\n",
       " <a list of 10 Patch objects>)"
      ]
     },
     "execution_count": 34,
     "metadata": {},
     "output_type": "execute_result"
    },
    {
     "data": {
      "image/png": "[encoded data removed]",
      "text/plain": [
       "<Figure size 432x288 with 1 Axes>"
      ]
     },
     "metadata": {
      "needs_background": "light"
     },
     "output_type": "display_data"
    }
   ],
   "source": [
    "plt.hist(x = (y_mat[17] - reg2_pred16).reshape(1,-1)[0])"
   ]
  },
  {
   "cell_type": "markdown",
   "metadata": {},
   "source": [
    "## Results (ARIMA)\n",
    "### Original terms: \n",
    "#### Train 2015, Test 2016: Test R^2 0.97, Test MSE 398\n",
    "### Lon Lat Sq terms: \n",
    "#### Train 2015, Test 2016: Test R^2 0.97, Test MSE 397"
   ]
  },
  {
   "cell_type": "code",
   "execution_count": null,
   "metadata": {},
   "outputs": [],
   "source": []
  }
 ],
 "metadata": {
  "kernelspec": {
   "display_name": "chicagotaxi",
   "language": "python",
   "name": "chicagotaxi"
  },
  "language_info": {
   "codemirror_mode": {
    "name": "ipython",
    "version": 3
   },
   "file_extension": ".py",
   "mimetype": "text/x-python",
   "name": "python",
   "nbconvert_exporter": "python",
   "pygments_lexer": "ipython3",
   "version": "3.6.0"
  }
 },
 "nbformat": 4,
 "nbformat_minor": 2
}
